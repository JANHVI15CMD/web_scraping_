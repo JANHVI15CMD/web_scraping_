{
 "cells": [
  {
   "cell_type": "code",
   "execution_count": 2,
   "metadata": {},
   "outputs": [],
   "source": [
    "from selenium import webdriver\n",
    "import time"
   ]
  },
  {
   "cell_type": "code",
   "execution_count": 14,
   "metadata": {},
   "outputs": [
    {
     "name": "stdout",
     "output_type": "stream",
     "text": [
      "Title of the Web  page :Google\n",
      "The Current URL of the page :https://www.google.com/\n",
      "\n",
      "screenshot taken!\n"
     ]
    }
   ],
   "source": [
    "driver = webdriver.Chrome()\n",
    "time.sleep(5)\n",
    "driver.maximize_window()\n",
    "\n",
    "\n",
    "url= \"https://www.google.com\"\n",
    "driver.get(url)\n",
    "\n",
    "print(f\"Title of the Web  page :{driver.title}\")\n",
    "print(f\"The Current URL of the page :{driver.current_url}\")\n",
    "driver.save_screenshot(\"google-screenshot.png\")\n",
    "print(\"\\nscreenshot taken!\")\n",
    "driver.quit()"
   ]
  },
  {
   "cell_type": "code",
   "execution_count": 8,
   "metadata": {},
   "outputs": [],
   "source": [
    "from selenium.webdriver.common.by import By\n",
    "from selenium.webdriver.common.keys import Keys\n",
    "from selenium.webdriver.support import expected_conditions as EC\n",
    "from selenium.webdriver.support.ui import WebDriverWait"
   ]
  },
  {
   "cell_type": "code",
   "execution_count": 23,
   "metadata": {},
   "outputs": [],
   "source": [
    "#Basic interaction with Web Elements\n",
    "driver = webdriver.Chrome()\n",
    "driver.maximize_window()\n",
    "\n",
    "\n",
    "url= \"https://www.google.com\"\n",
    "driver.get(url)\n",
    "time.sleep(2)\n",
    "search_bar_xpath = '//*[@id=\"APjFqb\"]'\n",
    "search_bar = driver.find_element(by= By.XPATH,value= search_bar_xpath)\n",
    "\n",
    "# enter input\n",
    "search_bar.send_keys(\"machine learning\")\n",
    "time.sleep(1)\n",
    "\n",
    "# clear feilds\n",
    "# search_bar.clear()\n",
    "# time.sleep(2)\n",
    "\n",
    "# clicking enter\n",
    "search_bar.send_keys(Keys.ENTER)\n",
    "time.sleep(2)\n",
    "\n",
    "# clicking action\n",
    "link_xpath = '//*[@id=\"rso\"]/div[4]/div/div/div[1]/div/div[2]/div/div/span/a/h3'\n",
    "\n",
    "link = WebDriverWait(driver, 10).until(\n",
    "    EC.element_to_be_clickable((By.XPATH, link_xpath))\n",
    ")\n",
    "link.click()"
   ]
  },
  {
   "cell_type": "code",
   "execution_count": 51,
   "metadata": {},
   "outputs": [],
   "source": [
    "from selenium import webdriver\n",
    "from selenium.webdriver.chrome.service import Service\n",
    "from selenium.webdriver.chrome.options import Options\n",
    "import time\n",
    "\n",
    "# Set up Chrome options with your profile settings.\n",
    "options = Options()\n",
    "options.add_argument(r\"user-data-dir=C:\\Users\\JT Lappy\\AppData\\Local\\Google\\Chrome\\User Data\")\n",
    "options.add_argument(\"profile-directory=Default\")  # Using the Default profile\n",
    "\n",
    "# Set the path to ChromeDriver (installed via Chocolatey).\n",
    "service = Service(r\"C:\\ProgramData\\chocolatey\\bin\\chromedriver.exe\")\n",
    "\n",
    "# Initialize the WebDriver with the provided options and service.\n",
    "driver = webdriver.Chrome(service=service, options=options)\n",
    "\n",
    "# Navigate to a website to test.\n",
    "driver.get(\"https://www.google.com\")\n",
    "time.sleep(5)  # Pause for 5 seconds so you can observe the browser\n",
    "\n",
    "# Close the browser\n",
    "driver.quit()\n"
   ]
  },
  {
   "cell_type": "code",
   "execution_count": 19,
   "metadata": {},
   "outputs": [],
   "source": [
    "from selenium import webdriver\n",
    "from selenium.webdriver.chrome.options import Options\n",
    "import time\n",
    "from selenium.webdriver.common.by import By\n",
    "\n",
    "options = Options()\n",
    "options.add_argument(\"user-data-dir=C:/sel-profile\")  # SelectorsHub wala profile\n",
    "\n",
    "driver = webdriver.Chrome(options=options)\n",
    "driver.maximize_window()\n",
    "\n",
    "driver.get(\"https://github.com/login\")\n",
    "time.sleep(2)\n",
    "\n",
    "username_field  = driver.find_element(By.ID, 'login_field')\n",
    "username_field.send_keys('janhvi')\n",
    "\n",
    "password_field= driver.find_element(By.ID,'password')\n",
    "password_field.send_keys('123456789')\n",
    "\n",
    "select_field = driver.find_element(By.XPATH,'//*[@id=\"login\"]/div[4]/form/div/input[13]')\n",
    "select_field.click()"
   ]
  },
  {
   "cell_type": "code",
   "execution_count": 2,
   "metadata": {},
   "outputs": [],
   "source": [
    "import time\n",
    "from selenium import webdriver\n",
    "from selenium.webdriver.common.by import By\n",
    "from selenium.webdriver.support.select import Select"
   ]
  },
  {
   "cell_type": "code",
   "execution_count": 25,
   "metadata": {},
   "outputs": [],
   "source": [
    "driver = webdriver.Chrome()\n",
    "driver.maximize_window()\n",
    "\n",
    "url = 'https://www.miniclip.com/careers/vacancies'\n",
    "driver.get(url)\n",
    "time.sleep(2)\n",
    "\n",
    "departments_field = driver.find_element(By.XPATH,'//*[@id=\"__layout\"]/div/div/section[2]/div/fieldset[3]/select')\n",
    "departments_dropdown = Select(departments_field)\n",
    "time.sleep(2)\n",
    "departments_dropdown.select_by_index(5)\n",
    "time.sleep(2)\n",
    "departments_dropdown.select_by_visible_text(\"UA\")\n",
    "\n",
    "\n"
   ]
  },
  {
   "cell_type": "code",
   "execution_count": 31,
   "metadata": {},
   "outputs": [],
   "source": [
    "driver = webdriver.Chrome()\n",
    "driver.maximize_window()\n",
    "url  = 'https://demoqa.com/select-menu'\n",
    "driver.get(url)\n",
    "time.sleep(2)\n",
    "\n",
    "cars_element= driver.find_element(By.XPATH, '//*[@id=\"cars\"]')\n",
    "cars_ms = Select(cars_element)\n",
    "time.sleep(2)\n",
    "cars_ms.select_by_index(1)\n",
    "time.sleep(1)\n",
    "\n",
    "cars_ms.select_by_visible_text(\"Opel\")\n",
    "time.sleep(1)\n",
    "\n",
    "cars_ms.select_by_visible_text(\"Audi\")\n",
    "time.sleep(1)\n",
    "\n",
    "cars_ms.deselect_by_index(2)\n",
    "time.sleep(1)\n"
   ]
  },
  {
   "cell_type": "code",
   "execution_count": 42,
   "metadata": {},
   "outputs": [],
   "source": [
    "driver= webdriver.Chrome()\n",
    "\n",
    "url =\"https://en.wikipedia.org/wiki/Machine_learning\"\n",
    "driver.get(url)\n",
    "time.sleep(2)\n",
    "\n",
    "# ai_xpath='//*[@id=\"Artificial_intelligence\"]'\n",
    "# ai_subtopic = driver.find_element(By.XPATH,ai_xpath)\n",
    "# driver.execute_script(\"arguments[0].scrollIntoView();\", ai_subtopic)\n",
    "# time.sleep(2)\n",
    "\n",
    "# scrolling vertically\n",
    "# driver.execute_script(\"window.scrollBy(0,1000);\")\n",
    "# time.sleep(2)\n",
    "# driver.execute_script(\"window.scrollBy(0,-500);\")\n",
    "# scrolling horizontal\n",
    "# driver.execute_script(\"window.scrollBy(1000,0);\")\n",
    "\n",
    "# scrolling by  page height\n",
    "driver.execute_script(\"window.scrollTo(0,document.body.scrollHeight);\")\n",
    "time.sleep(2)\n",
    "driver.execute_script(\"window.scrollTo(0,-document.body.scrollHeight);\")\n",
    "# driver.quit()"
   ]
  },
  {
   "cell_type": "code",
   "execution_count": 3,
   "metadata": {},
   "outputs": [],
   "source": [
    "\n",
    "\n",
    "driver= webdriver.Chrome()\n",
    "\n",
    "url =\"https://www.google.com/search?sca_esv=4c75ca2344971d57&rlz=1C1VDKB_enIN1141IN1154&sxsrf=AHTn8zo2TgrUASQE_PLXqcx-jdKPeXGrvw:1744313726470&q=arsenal&udm=2&fbs=ABzOT_CWdhQLP1FcmU5B0fn3xuWpmDtIGL1r84kuKz6yAcD_il6oiuB9B0YXRa1kAroN-xkTK-evyMqndfMr_REy4R6qVjYr6fIF5adBmB-LvFFgtEap3UUqjwpVh0yjiaASWNweO8s7V_89-RcW_Fwy8yxznjelXJMtgP6HGgHrOwYN62nNfQy7QmyL_5J4Z2QvCoB9fFlNvPxMvVeOBjqc5JtsU42KUQ&sa=X&ved=2ahUKEwjH7auAm86MAxXjsVYBHTyIJzEQtKgLegQIGBAB&biw=778&bih=734&dpr=1.25\"\n",
    "driver.get(url)\n",
    "time.sleep(2)\n",
    "\n",
    "# infinite scrolling\n",
    "prev_height = driver.execute_script('return document.body.scrollingHeight')\n",
    "while True:\n",
    "    driver.execute_script('window.scrollTo(0,document.body.scrollHeight);')\n",
    "\n",
    "    time.sleep(3)\n",
    "\n",
    "    new_height = driver.execute_script('return document.body.scrollHeight')\n",
    "\n",
    "    if prev_height == new_height:\n",
    "        break\n",
    "\n",
    "    prev_height = new_height\n",
    "                                       \n",
    "                                       \n",
    "\n",
    "\n"
   ]
  },
  {
   "cell_type": "code",
   "execution_count": 5,
   "metadata": {},
   "outputs": [],
   "source": [
    "from selenium.webdriver.support.ui import WebDriverWait\n",
    "from selenium.webdriver.support import expected_conditions as EC"
   ]
  },
  {
   "cell_type": "code",
   "execution_count": 9,
   "metadata": {},
   "outputs": [],
   "source": [
    "driver= webdriver.Chrome()\n",
    "\n",
    "url =\"https://www.google.com/\"\n",
    "driver.get(url)\n",
    "time.sleep(2)\n",
    "\n",
    "search_bar =driver.find_element(By.XPATH,'//*[@id=\"APjFqb\"]' )\n",
    "search_bar.send_keys(\"machine learning \")\n",
    "wait = WebDriverWait(driver,5)\n",
    "wait.until(EC.element_to_be_clickable((By.XPATH , '/html/body/div[1]/div[3]/form/div[1]/div[1]/div[2]/div[4]/div[6]/center/input[1]')))\n",
    "\n",
    "search_bar.send_keys(Keys.ENTER)"
   ]
  },
  {
   "cell_type": "code",
   "execution_count": 3,
   "metadata": {},
   "outputs": [],
   "source": [
    "import time\n",
    "from selenium import webdriver\n",
    "from selenium.webdriver.common.by import By\n",
    "from selenium.webdriver.common.keys import Keys\n",
    "\n",
    "driver= webdriver.Chrome()\n",
    "driver.implicitly_wait(10)\n",
    "url =\"https://www.google.com/\"\n",
    "driver.get(url)\n",
    "time.sleep(2)\n",
    "\n",
    "search_bar =driver.find_element(By.XPATH,'//*[@id=\"APjFqb\"]' )\n",
    "\n",
    "search_bar.send_keys(\"machine learning \")\n",
    "time.sleep(1)\n",
    "search_bar.send_keys(Keys.ENTER)\n",
    "time.sleep(2)\n",
    "driver.quit()\n"
   ]
  },
  {
   "cell_type": "code",
   "execution_count": null,
   "metadata": {},
   "outputs": [],
   "source": [
    "import time\n",
    "from selenium import webdriver\n",
    "from selenium.webdriver.common.by import By\n",
    "\n",
    "driver = webdriver.Chrome()\n",
    "url =\"https://www.w3schools.com/html/tryit.asp?filename=tryhtml_iframe_target\"\n",
    "driver.get(url)\n",
    "time.sleep(2)\n",
    "iframe_element  = driver.find_element(By.XPATH,'//*[@id=\"iframeResult\"]')\n",
    "driver.switch_to.frame(iframe_element)\n",
    "\n",
    "link = driver.find_element(By.XPATH,'/html/body/p[1]/a')\n",
    "link.click()\n",
    "\n",
    "time.sleep(2)\n",
    "\n",
    "driver.switch_to.default_content()\n",
    "driver.quit()\n"
   ]
  },
  {
   "cell_type": "code",
   "execution_count": 8,
   "metadata": {},
   "outputs": [
    {
     "name": "stdout",
     "output_type": "stream",
     "text": [
      "Alert Text: I am an alert box!\n"
     ]
    }
   ],
   "source": [
    "driver = webdriver.Chrome()\n",
    "url = \"https://www.w3schools.com/js/tryit.asp?filename=tryjs_alert\"\n",
    "driver.get(url)\n",
    "time.sleep(2)\n",
    "\n",
    "iframe_element = driver.find_element(By.XPATH,'//*[@id=\"iframeResult\"]')\n",
    "driver.switch_to.frame(iframe_element)\n",
    "button = driver.find_element(By.XPATH,'/html/body/button')\n",
    "button.click()\n",
    "time.sleep(2)\n",
    "print(f\"Alert Text: {driver.switch_to.alert.text}\")\n",
    "driver.switch_to.alert.accept()\n",
    "time.sleep(2)\n",
    "\n",
    "driver.switch_to.default_content()\n",
    "\n",
    "driver.quit()"
   ]
  },
  {
   "cell_type": "code",
   "execution_count": 11,
   "metadata": {},
   "outputs": [
    {
     "name": "stdout",
     "output_type": "stream",
     "text": [
      "Alert Text: Please enter your name:\n"
     ]
    }
   ],
   "source": [
    "driver = webdriver.Chrome()\n",
    "url = \"https://www.w3schools.com/js/tryit.asp?filename=tryjs_prompt\"\n",
    "driver.get(url)\n",
    "time.sleep(2)\n",
    "\n",
    "iframe_element = driver.find_element(By.XPATH,'//*[@id=\"iframeResult\"]')\n",
    "driver.switch_to.frame(iframe_element)\n",
    "button = driver.find_element(By.XPATH,'/html/body/button')\n",
    "button.click()\n",
    "# time.sleep(2)\n",
    "print(f\"Alert Text: {driver.switch_to.alert.text}\")\n",
    "driver.switch_to.alert.send_keys(\"janhvi\")\n",
    "driver.switch_to.alert.accept()\n",
    "# time.sleep(2)\n",
    "# driver.switch_to.alert.dismiss()\n",
    "# driver.switch_to.default_content()\n",
    "\n",
    "# driver.quit()"
   ]
  },
  {
   "cell_type": "code",
   "execution_count": 12,
   "metadata": {},
   "outputs": [],
   "source": [
    "import time\n",
    "from selenium import webdriver\n",
    "from selenium.webdriver.common.by import By\n",
    "from selenium.webdriver.common.keys import Keys"
   ]
  },
  {
   "cell_type": "code",
   "execution_count": 15,
   "metadata": {},
   "outputs": [],
   "source": [
    "driver = webdriver.Chrome()\n",
    "url = \"https://github.com/login\"\n",
    "driver.get(url)\n",
    "time.sleep(2)\n",
    "\n",
    "username_field =driver.find_element(By.ID, \"login_field\")\n",
    "username_field.send_keys(\"janhvi\")\n",
    "password_field =driver.find_element(By.ID,\"password\")\n",
    "password_field.send_keys(\"pass12345\")\n",
    "login_field = driver.find_element(By.XPATH , '//*[@id=\"login\"]/div[4]/form/div/input[13]')\n",
    "login_field.click()"
   ]
  },
  {
   "cell_type": "code",
   "execution_count": 16,
   "metadata": {},
   "outputs": [],
   "source": [
    "# POM\n",
    "driver = webdriver.Chrome()\n",
    "url = \"https://github.com/login\"\n",
    "driver.get(url)\n",
    "time.sleep(2)\n",
    "\n",
    "class LoginPage:\n",
    "    def __init__(self,driver):\n",
    "        self.driver= driver\n",
    "        self.username = (By.ID,\"login_field\")\n",
    "        self.password = (By.ID,\"password\")\n",
    "        self.login_button =(By.XPATH,'//*[@id=\"login\"]/div[4]/form/div/input[13]')\n",
    "    def login(self,username,password):\n",
    "         self.driver.find_element(*self.username).send_keys(username)\n",
    "         self.driver.find_element(*self.password).send_keys(password)\n",
    "         self.driver.find_element(* self.login_button).click()\n",
    "login_page = LoginPage(driver)\n",
    "login_page.login(\"janhvi\",\"Pass123\")\n",
    "time.sleep(2)\n",
    "driver.quit()"
   ]
  },
  {
   "cell_type": "code",
   "execution_count": null,
   "metadata": {},
   "outputs": [],
   "source": []
  }
 ],
 "metadata": {
  "kernelspec": {
   "display_name": "scraping_env",
   "language": "python",
   "name": "python3"
  },
  "language_info": {
   "codemirror_mode": {
    "name": "ipython",
    "version": 3
   },
   "file_extension": ".py",
   "mimetype": "text/x-python",
   "name": "python",
   "nbconvert_exporter": "python",
   "pygments_lexer": "ipython3",
   "version": "3.13.1"
  }
 },
 "nbformat": 4,
 "nbformat_minor": 2
}
