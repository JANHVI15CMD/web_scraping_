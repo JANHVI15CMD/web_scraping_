{
 "cells": [
  {
   "cell_type": "code",
   "execution_count": 37,
   "metadata": {},
   "outputs": [],
   "source": [
    "from bs4 import BeautifulSoup"
   ]
  },
  {
   "cell_type": "code",
   "execution_count": 38,
   "metadata": {},
   "outputs": [],
   "source": [
    "## Create a Soup object\n",
    "with open(\"dummy.html\") as file:\n",
    "   soup= BeautifulSoup(file ,\"html.parser\")"
   ]
  },
  {
   "cell_type": "code",
   "execution_count": 39,
   "metadata": {},
   "outputs": [
    {
     "data": {
      "text/plain": [
       "bs4.BeautifulSoup"
      ]
     },
     "execution_count": 39,
     "metadata": {},
     "output_type": "execute_result"
    }
   ],
   "source": [
    "type(soup)"
   ]
  },
  {
   "cell_type": "markdown",
   "metadata": {},
   "source": [
    "## Basics of the soup object\n",
    "1. prettyfy()\n",
    "2. individual tags:\n",
    "           . title\n",
    "           . a\n",
    "           . p\n",
    "3. text\n",
    "4. name\n",
    "5. parent\n",
    "6. children\n",
    "7. descendants\n",
    "8. get_text()\n",
    "9. find()\n",
    "10. find_all()\n",
    "11. get()/square bracket notation\n",
    "    "
   ]
  },
  {
   "cell_type": "code",
   "execution_count": 40,
   "metadata": {},
   "outputs": [
    {
     "name": "stdout",
     "output_type": "stream",
     "text": [
      "<!DOCTYPE html>\n",
      "<html lang=\"en\">\n",
      " <head>\n",
      "  <meta charset=\"utf-8\"/>\n",
      "  <title>\n",
      "   My Dummy Web Page\n",
      "  </title>\n",
      " </head>\n",
      " <body>\n",
      "  <h1>\n",
      "   Welcome to My Dummy Page\n",
      "  </h1>\n",
      "  <div class=\"product\">\n",
      "   <h2 class=\"title\">\n",
      "    Product A\n",
      "   </h2>\n",
      "   <span class=\"price\">\n",
      "    $25\n",
      "   </span>\n",
      "  </div>\n",
      "  <a class=\"sis\" href=\"http://example.com elsie\" id=\"l1\">\n",
      "   elsie\n",
      "  </a>\n",
      "  <a class=\"sis\" href=\"http://example.com lacie\" id=\"l2\">\n",
      "   lacie\n",
      "  </a>\n",
      "  <div class=\"product\">\n",
      "   <h2 class=\"title\">\n",
      "    Product B\n",
      "   </h2>\n",
      "   <span class=\"price\">\n",
      "    $40\n",
      "   </span>\n",
      "  </div>\n",
      "  <div class=\"product\">\n",
      "   <h2 class=\"title\">\n",
      "    Product C\n",
      "   </h2>\n",
      "   <span class=\"price\">\n",
      "    $30\n",
      "   </span>\n",
      "  </div>\n",
      " </body>\n",
      "</html>\n",
      "\n"
     ]
    }
   ],
   "source": [
    "#prettify\n",
    "print(soup.prettify())"
   ]
  },
  {
   "cell_type": "code",
   "execution_count": 41,
   "metadata": {},
   "outputs": [
    {
     "data": {
      "text/plain": [
       "<title>My Dummy Web Page</title>"
      ]
     },
     "execution_count": 41,
     "metadata": {},
     "output_type": "execute_result"
    }
   ],
   "source": [
    "# Individual tag\n",
    "soup.title"
   ]
  },
  {
   "cell_type": "code",
   "execution_count": 42,
   "metadata": {},
   "outputs": [
    {
     "data": {
      "text/plain": [
       "'My Dummy Web Page'"
      ]
     },
     "execution_count": 42,
     "metadata": {},
     "output_type": "execute_result"
    }
   ],
   "source": [
    "soup.title.text"
   ]
  },
  {
   "cell_type": "code",
   "execution_count": 43,
   "metadata": {},
   "outputs": [
    {
     "data": {
      "text/plain": [
       "str"
      ]
     },
     "execution_count": 43,
     "metadata": {},
     "output_type": "execute_result"
    }
   ],
   "source": [
    "type(soup.title.text)"
   ]
  },
  {
   "cell_type": "code",
   "execution_count": 44,
   "metadata": {},
   "outputs": [
    {
     "data": {
      "text/plain": [
       "'MY DUMMY WEB PAGE'"
      ]
     },
     "execution_count": 44,
     "metadata": {},
     "output_type": "execute_result"
    }
   ],
   "source": [
    "soup.title.text.upper()"
   ]
  },
  {
   "cell_type": "code",
   "execution_count": 45,
   "metadata": {},
   "outputs": [
    {
     "data": {
      "text/plain": [
       "'title'"
      ]
     },
     "execution_count": 45,
     "metadata": {},
     "output_type": "execute_result"
    }
   ],
   "source": [
    "soup.title.name"
   ]
  },
  {
   "cell_type": "code",
   "execution_count": 46,
   "metadata": {},
   "outputs": [
    {
     "data": {
      "text/plain": [
       "<a class=\"sis\" href=\"http://example.com elsie\" id=\"l1\">elsie</a>"
      ]
     },
     "execution_count": 46,
     "metadata": {},
     "output_type": "execute_result"
    }
   ],
   "source": [
    "soup.a"
   ]
  },
  {
   "cell_type": "code",
   "execution_count": 47,
   "metadata": {},
   "outputs": [],
   "source": [
    "soup.p"
   ]
  },
  {
   "cell_type": "code",
   "execution_count": 48,
   "metadata": {},
   "outputs": [
    {
     "data": {
      "text/plain": [
       "<h1>Welcome to My Dummy Page</h1>"
      ]
     },
     "execution_count": 48,
     "metadata": {},
     "output_type": "execute_result"
    }
   ],
   "source": [
    "soup.h1"
   ]
  },
  {
   "cell_type": "code",
   "execution_count": 49,
   "metadata": {},
   "outputs": [
    {
     "data": {
      "text/plain": [
       "<head>\n",
       "<meta charset=\"utf-8\"/>\n",
       "<title>My Dummy Web Page</title>\n",
       "</head>"
      ]
     },
     "execution_count": 49,
     "metadata": {},
     "output_type": "execute_result"
    }
   ],
   "source": [
    "# parent\n",
    "soup.title.parent"
   ]
  },
  {
   "cell_type": "code",
   "execution_count": 50,
   "metadata": {},
   "outputs": [
    {
     "data": {
      "text/plain": [
       "<html lang=\"en\">\n",
       "<head>\n",
       "<meta charset=\"utf-8\"/>\n",
       "<title>My Dummy Web Page</title>\n",
       "</head>\n",
       "<body>\n",
       "<h1>Welcome to My Dummy Page</h1>\n",
       "<div class=\"product\">\n",
       "<h2 class=\"title\">Product A</h2>\n",
       "<span class=\"price\">$25</span>\n",
       "</div>\n",
       "<a class=\"sis\" href=\"http://example.com elsie\" id=\"l1\">elsie</a>\n",
       "<a class=\"sis\" href=\"http://example.com lacie\" id=\"l2\">lacie</a>\n",
       "<div class=\"product\">\n",
       "<h2 class=\"title\">Product B</h2>\n",
       "<span class=\"price\">$40</span>\n",
       "</div>\n",
       "<div class=\"product\">\n",
       "<h2 class=\"title\">Product C</h2>\n",
       "<span class=\"price\">$30</span>\n",
       "</div>\n",
       "</body>\n",
       "</html>"
      ]
     },
     "execution_count": 50,
     "metadata": {},
     "output_type": "execute_result"
    }
   ],
   "source": [
    "soup.title.parent.parent"
   ]
  },
  {
   "cell_type": "code",
   "execution_count": 51,
   "metadata": {},
   "outputs": [
    {
     "data": {
      "text/plain": [
       "<body>\n",
       "<h1>Welcome to My Dummy Page</h1>\n",
       "<div class=\"product\">\n",
       "<h2 class=\"title\">Product A</h2>\n",
       "<span class=\"price\">$25</span>\n",
       "</div>\n",
       "<a class=\"sis\" href=\"http://example.com elsie\" id=\"l1\">elsie</a>\n",
       "<a class=\"sis\" href=\"http://example.com lacie\" id=\"l2\">lacie</a>\n",
       "<div class=\"product\">\n",
       "<h2 class=\"title\">Product B</h2>\n",
       "<span class=\"price\">$40</span>\n",
       "</div>\n",
       "<div class=\"product\">\n",
       "<h2 class=\"title\">Product C</h2>\n",
       "<span class=\"price\">$30</span>\n",
       "</div>\n",
       "</body>"
      ]
     },
     "execution_count": 51,
     "metadata": {},
     "output_type": "execute_result"
    }
   ],
   "source": [
    "# children\n",
    "soup.body"
   ]
  },
  {
   "cell_type": "code",
   "execution_count": 52,
   "metadata": {},
   "outputs": [
    {
     "data": {
      "text/plain": [
       "<generator object Tag.children.<locals>.<genexpr> at 0x000002B52048BAC0>"
      ]
     },
     "execution_count": 52,
     "metadata": {},
     "output_type": "execute_result"
    }
   ],
   "source": [
    "soup.body.children"
   ]
  },
  {
   "cell_type": "code",
   "execution_count": 53,
   "metadata": {},
   "outputs": [
    {
     "name": "stdout",
     "output_type": "stream",
     "text": [
      "\n",
      "\n",
      "<h1>Welcome to My Dummy Page</h1>\n",
      "\n",
      "\n",
      "<div class=\"product\">\n",
      "<h2 class=\"title\">Product A</h2>\n",
      "<span class=\"price\">$25</span>\n",
      "</div>\n",
      "\n",
      "\n",
      "<a class=\"sis\" href=\"http://example.com elsie\" id=\"l1\">elsie</a>\n",
      "\n",
      "\n",
      "<a class=\"sis\" href=\"http://example.com lacie\" id=\"l2\">lacie</a>\n",
      "\n",
      "\n",
      "<div class=\"product\">\n",
      "<h2 class=\"title\">Product B</h2>\n",
      "<span class=\"price\">$40</span>\n",
      "</div>\n",
      "\n",
      "\n",
      "<div class=\"product\">\n",
      "<h2 class=\"title\">Product C</h2>\n",
      "<span class=\"price\">$30</span>\n",
      "</div>\n",
      "\n",
      "\n"
     ]
    }
   ],
   "source": [
    "for child in soup.body.children:\n",
    "    print(child)"
   ]
  },
  {
   "cell_type": "code",
   "execution_count": 54,
   "metadata": {},
   "outputs": [
    {
     "name": "stdout",
     "output_type": "stream",
     "text": [
      "\n",
      "\n",
      "<meta charset=\"utf-8\"/>\n",
      "\n",
      "\n",
      "<title>My Dummy Web Page</title>\n",
      "\n",
      "\n"
     ]
    }
   ],
   "source": [
    "for child in soup.head.children:\n",
    "    print(child)"
   ]
  },
  {
   "cell_type": "code",
   "execution_count": 55,
   "metadata": {},
   "outputs": [
    {
     "data": {
      "text/plain": [
       "<generator object Tag.descendants at 0x000002B520A6F840>"
      ]
     },
     "execution_count": 55,
     "metadata": {},
     "output_type": "execute_result"
    }
   ],
   "source": [
    "# descendants \n",
    "soup.body.descendants"
   ]
  },
  {
   "cell_type": "code",
   "execution_count": 56,
   "metadata": {},
   "outputs": [
    {
     "name": "stdout",
     "output_type": "stream",
     "text": [
      "\n",
      "\n",
      "<h1>Welcome to My Dummy Page</h1>\n",
      "Welcome to My Dummy Page\n",
      "\n",
      "\n",
      "<div class=\"product\">\n",
      "<h2 class=\"title\">Product A</h2>\n",
      "<span class=\"price\">$25</span>\n",
      "</div>\n",
      "\n",
      "\n",
      "<h2 class=\"title\">Product A</h2>\n",
      "Product A\n",
      "\n",
      "\n",
      "<span class=\"price\">$25</span>\n",
      "$25\n",
      "\n",
      "\n",
      "\n",
      "\n",
      "<a class=\"sis\" href=\"http://example.com elsie\" id=\"l1\">elsie</a>\n",
      "elsie\n",
      "\n",
      "\n",
      "<a class=\"sis\" href=\"http://example.com lacie\" id=\"l2\">lacie</a>\n",
      "lacie\n",
      "\n",
      "\n",
      "<div class=\"product\">\n",
      "<h2 class=\"title\">Product B</h2>\n",
      "<span class=\"price\">$40</span>\n",
      "</div>\n",
      "\n",
      "\n",
      "<h2 class=\"title\">Product B</h2>\n",
      "Product B\n",
      "\n",
      "\n",
      "<span class=\"price\">$40</span>\n",
      "$40\n",
      "\n",
      "\n",
      "\n",
      "\n",
      "<div class=\"product\">\n",
      "<h2 class=\"title\">Product C</h2>\n",
      "<span class=\"price\">$30</span>\n",
      "</div>\n",
      "\n",
      "\n",
      "<h2 class=\"title\">Product C</h2>\n",
      "Product C\n",
      "\n",
      "\n",
      "<span class=\"price\">$30</span>\n",
      "$30\n",
      "\n",
      "\n",
      "\n",
      "\n"
     ]
    }
   ],
   "source": [
    "for d in soup.body.descendants:\n",
    "    print(d)"
   ]
  },
  {
   "cell_type": "code",
   "execution_count": 57,
   "metadata": {},
   "outputs": [
    {
     "data": {
      "text/plain": [
       "<body>\n",
       "<h1>Welcome to My Dummy Page</h1>\n",
       "<div class=\"product\">\n",
       "<h2 class=\"title\">Product A</h2>\n",
       "<span class=\"price\">$25</span>\n",
       "</div>\n",
       "<a class=\"sis\" href=\"http://example.com elsie\" id=\"l1\">elsie</a>\n",
       "<a class=\"sis\" href=\"http://example.com lacie\" id=\"l2\">lacie</a>\n",
       "<div class=\"product\">\n",
       "<h2 class=\"title\">Product B</h2>\n",
       "<span class=\"price\">$40</span>\n",
       "</div>\n",
       "<div class=\"product\">\n",
       "<h2 class=\"title\">Product C</h2>\n",
       "<span class=\"price\">$30</span>\n",
       "</div>\n",
       "</body>"
      ]
     },
     "execution_count": 57,
     "metadata": {},
     "output_type": "execute_result"
    }
   ],
   "source": [
    "# get_text()\n",
    "soup.body"
   ]
  },
  {
   "cell_type": "code",
   "execution_count": 58,
   "metadata": {},
   "outputs": [
    {
     "data": {
      "text/plain": [
       "'\\nWelcome to My Dummy Page\\n\\nProduct A\\n$25\\n\\nelsie\\nlacie\\n\\nProduct B\\n$40\\n\\n\\nProduct C\\n$30\\n\\n'"
      ]
     },
     "execution_count": 58,
     "metadata": {},
     "output_type": "execute_result"
    }
   ],
   "source": [
    "soup.body.get_text()"
   ]
  },
  {
   "cell_type": "code",
   "execution_count": 59,
   "metadata": {},
   "outputs": [
    {
     "name": "stdout",
     "output_type": "stream",
     "text": [
      "Welcome to My Dummy Page\n",
      "\n",
      "Product A\n",
      "$25\n",
      "\n",
      "elsie\n",
      "lacie\n",
      "\n",
      "Product B\n",
      "$40\n",
      "\n",
      "\n",
      "Product C\n",
      "$30\n"
     ]
    }
   ],
   "source": [
    "print(soup.body.get_text().strip())"
   ]
  },
  {
   "cell_type": "code",
   "execution_count": 60,
   "metadata": {},
   "outputs": [
    {
     "data": {
      "text/plain": [
       "<h2 class=\"title\">Product A</h2>"
      ]
     },
     "execution_count": 60,
     "metadata": {},
     "output_type": "execute_result"
    }
   ],
   "source": [
    "# find\n",
    "soup.h2"
   ]
  },
  {
   "cell_type": "code",
   "execution_count": 61,
   "metadata": {},
   "outputs": [
    {
     "data": {
      "text/plain": [
       "<h1>Welcome to My Dummy Page</h1>"
      ]
     },
     "execution_count": 61,
     "metadata": {},
     "output_type": "execute_result"
    }
   ],
   "source": [
    "#best way to find\n",
    "soup.find('h1')"
   ]
  },
  {
   "cell_type": "code",
   "execution_count": 62,
   "metadata": {},
   "outputs": [
    {
     "data": {
      "text/plain": [
       "[<head>\n",
       " <meta charset=\"utf-8\"/>\n",
       " <title>My Dummy Web Page</title>\n",
       " </head>]"
      ]
     },
     "execution_count": 62,
     "metadata": {},
     "output_type": "execute_result"
    }
   ],
   "source": [
    "# find all\n",
    "soup.find_all('head')"
   ]
  },
  {
   "cell_type": "code",
   "execution_count": 63,
   "metadata": {},
   "outputs": [
    {
     "data": {
      "text/plain": [
       "bs4.element.ResultSet"
      ]
     },
     "execution_count": 63,
     "metadata": {},
     "output_type": "execute_result"
    }
   ],
   "source": [
    "\n",
    "type(soup.find_all('head'))"
   ]
  },
  {
   "cell_type": "code",
   "execution_count": 64,
   "metadata": {},
   "outputs": [
    {
     "data": {
      "text/plain": [
       "<a class=\"sis\" href=\"http://example.com elsie\" id=\"l1\">elsie</a>"
      ]
     },
     "execution_count": 64,
     "metadata": {},
     "output_type": "execute_result"
    }
   ],
   "source": [
    "soup.find('a')"
   ]
  },
  {
   "cell_type": "code",
   "execution_count": null,
   "metadata": {},
   "outputs": [
    {
     "data": {
      "text/plain": [
       "'l1'"
      ]
     },
     "execution_count": 67,
     "metadata": {},
     "output_type": "execute_result"
    }
   ],
   "source": [
    "\n",
    "soup.a['id']"
   ]
  },
  {
   "cell_type": "code",
   "execution_count": 68,
   "metadata": {},
   "outputs": [
    {
     "data": {
      "text/plain": [
       "['sis']"
      ]
     },
     "execution_count": 68,
     "metadata": {},
     "output_type": "execute_result"
    }
   ],
   "source": [
    "# get\n",
    "soup.a.get('class')"
   ]
  },
  {
   "cell_type": "code",
   "execution_count": null,
   "metadata": {},
   "outputs": [],
   "source": []
  },
  {
   "cell_type": "code",
   "execution_count": null,
   "metadata": {},
   "outputs": [],
   "source": []
  },
  {
   "cell_type": "code",
   "execution_count": null,
   "metadata": {},
   "outputs": [],
   "source": []
  },
  {
   "cell_type": "code",
   "execution_count": null,
   "metadata": {},
   "outputs": [],
   "source": []
  },
  {
   "cell_type": "code",
   "execution_count": null,
   "metadata": {},
   "outputs": [],
   "source": []
  }
 ],
 "metadata": {
  "kernelspec": {
   "display_name": "scraping_env",
   "language": "python",
   "name": "python3"
  },
  "language_info": {
   "codemirror_mode": {
    "name": "ipython",
    "version": 3
   },
   "file_extension": ".py",
   "mimetype": "text/x-python",
   "name": "python",
   "nbconvert_exporter": "python",
   "pygments_lexer": "ipython3",
   "version": "3.13.1"
  }
 },
 "nbformat": 4,
 "nbformat_minor": 2
}
