{
 "cells": [
  {
   "cell_type": "markdown",
   "metadata": {},
   "source": [
    "# HTML parsing with Beautiful Soup: A Mini Project\n",
    " * scrape data from a public website\n",
    " * organize the data as a dataframe\n",
    " * export the data as an excel sheet"
   ]
  },
  {
   "cell_type": "code",
   "execution_count": 72,
   "metadata": {},
   "outputs": [],
   "source": [
    "import requests\n",
    "import pandas as pd\n",
    "from bs4 import BeautifulSoup"
   ]
  },
  {
   "cell_type": "code",
   "execution_count": 12,
   "metadata": {},
   "outputs": [],
   "source": [
    "# GET request\n",
    "url= \"https://www.bbc.com/sport/football/premier-league/top-scorers\"\n"
   ]
  },
  {
   "cell_type": "code",
   "execution_count": 21,
   "metadata": {},
   "outputs": [
    {
     "name": "stdout",
     "output_type": "stream",
     "text": [
      "[<tr class=\"ssrcss-dhlz6k-TableRowBody e1icz100\"><td class=\"ssrcss-fvkmzs-StyledTableData ef9ipf1\"><div class=\"ssrcss-qg0qvg-CellWrapper ef9ipf0\" value=\"1\"><div class=\"ssrcss-wjp01q-RankAndBadgeWrapper e1n6h4mf2\"><span class=\"ssrcss-1xljqjf-Rank e1n6h4mf1\">1</span><div class=\"ssrcss-833zc8-BadgeWrapper e1n6h4mf0\"><div class=\"ssrcss-bdya4g-MobileOnlyWrapper e1v3gc7i1\"><div class=\"ssrcss-1ij97kg-BadgeContainer ezmsq4q1\" data-testid=\"badge-container-liverpool\" size=\"20\"><img alt=\"\" aria-hidden=\"true\" class=\"ssrcss-1knyx38-BadgeImage ezmsq4q0\" data-testid=\"badge-img-liverpool\" src=\"https://static.files.bbci.co.uk/core/website/assets/static/sport/football/liverpool.0d2ced3f9a.svg\"/></div></div><div class=\"ssrcss-dngukv-DesktopOnlyWrapper e1v3gc7i0\"><div class=\"ssrcss-1b9x5pa-BadgeContainer ezmsq4q1\" data-testid=\"badge-container-liverpool\" size=\"24\"><img alt=\"\" aria-hidden=\"true\" class=\"ssrcss-1knyx38-BadgeImage ezmsq4q0\" data-testid=\"badge-img-liverpool\" src=\"https://static.files.bbci.co.uk/core/website/assets/static/sport/football/liverpool.0d2ced3f9a.svg\"/></div></div></div></div></div></td><td class=\"ssrcss-fvkmzs-StyledTableData ef9ipf1\"><div class=\"ssrcss-qg0qvg-CellWrapper ef9ipf0\"><div data-player-id=\"urn:bbc:sportsdata:football:player:s-5ilkkfbsss0bxd6ttdlqg0uz9\" data-team-id=\"urn:bbc:sportsdata:football:team:liverpool\"></div><div class=\"ssrcss-dngukv-DesktopOnlyWrapper e1v3gc7i0\"><div role=\"text\"><div class=\"ssrcss-m6ah29-PlayerName e1n8xy5b1\">Mohamed Salah</div><div class=\"ssrcss-qvpga1-TeamsSummary e1n8xy5b0\">Liverpool</div></div></div><div class=\"ssrcss-bdya4g-MobileOnlyWrapper e1v3gc7i1\"><div role=\"text\"><div class=\"ssrcss-m6ah29-PlayerName e1n8xy5b1\">Mohamed Salah</div><div class=\"ssrcss-qvpga1-TeamsSummary e1n8xy5b0\">Liverpool</div></div></div></div></td><td class=\"ssrcss-jfz7x5-StyledTableData ef9ipf1\"><div class=\"ssrcss-8k20kk-CellWrapper ef9ipf0\" value=\"27\">27</div></td><td class=\"ssrcss-db6a34-StyledTableData ef9ipf1\"><div class=\"ssrcss-8k20kk-CellWrapper ef9ipf0\" value=\"27\">27</div></td><td class=\"ssrcss-jfz7x5-StyledTableData ef9ipf1\"><div class=\"ssrcss-150z8d-CellWrapper ef9ipf0\" value=\"17\">17</div></td><td class=\"ssrcss-db6a34-StyledTableData ef9ipf1\"><div class=\"ssrcss-150z8d-CellWrapper ef9ipf0\" value=\"17\">17</div></td><td class=\"ssrcss-jfz7x5-StyledTableData ef9ipf1\"><div class=\"ssrcss-150z8d-CellWrapper ef9ipf0\" value=\"30\">30</div></td><td class=\"ssrcss-db6a34-StyledTableData ef9ipf1\"><div class=\"ssrcss-150z8d-CellWrapper ef9ipf0\" value=\"30\">30</div></td><td class=\"ssrcss-jfz7x5-StyledTableData ef9ipf1\"><div class=\"ssrcss-150z8d-CellWrapper ef9ipf0\" value=\"0.91\">0.91</div></td><td class=\"ssrcss-1t1swew-StyledTableData ef9ipf1\"><div class=\"ssrcss-150z8d-CellWrapper ef9ipf0\" value=\"99\">99</div></td><td class=\"ssrcss-17jls80-StyledTableData ef9ipf1\"><div class=\"ssrcss-150z8d-CellWrapper ef9ipf0\" value=\"99\">99</div></td><td class=\"ssrcss-1dut4x2-StyledTableData ef9ipf1\"><div class=\"ssrcss-150z8d-CellWrapper ef9ipf0\" value=\"107\">107</div></td><td class=\"ssrcss-jfz7x5-StyledTableData ef9ipf1\"><div class=\"ssrcss-150z8d-CellWrapper ef9ipf0\" value=\"25%\">25%</div></td><td class=\"ssrcss-1dut4x2-StyledTableData ef9ipf1\"><div class=\"ssrcss-150z8d-CellWrapper ef9ipf0\" value=\"52%\">52%</div></td></tr>, <tr class=\"ssrcss-dhlz6k-TableRowBody e1icz100\"><td class=\"ssrcss-fvkmzs-StyledTableData ef9ipf1\"><div class=\"ssrcss-qg0qvg-CellWrapper ef9ipf0\" value=\"2\"><div class=\"ssrcss-wjp01q-RankAndBadgeWrapper e1n6h4mf2\"><span class=\"ssrcss-1xljqjf-Rank e1n6h4mf1\">2</span><div class=\"ssrcss-833zc8-BadgeWrapper e1n6h4mf0\"><div class=\"ssrcss-bdya4g-MobileOnlyWrapper e1v3gc7i1\"><div class=\"ssrcss-1ij97kg-BadgeContainer ezmsq4q1\" data-testid=\"badge-container-manchester-city\" size=\"20\"><img alt=\"\" aria-hidden=\"true\" class=\"ssrcss-1knyx38-BadgeImage ezmsq4q0\" data-testid=\"badge-img-manchester-city\" src=\"https://static.files.bbci.co.uk/core/website/assets/static/sport/football/manchester-city.ac0fd3e437.svg\"/></div></div><div class=\"ssrcss-dngukv-DesktopOnlyWrapper e1v3gc7i0\"><div class=\"ssrcss-1b9x5pa-BadgeContainer ezmsq4q1\" data-testid=\"badge-container-manchester-city\" size=\"24\"><img alt=\"\" aria-hidden=\"true\" class=\"ssrcss-1knyx38-BadgeImage ezmsq4q0\" data-testid=\"badge-img-manchester-city\" src=\"https://static.files.bbci.co.uk/core/website/assets/static/sport/football/manchester-city.ac0fd3e437.svg\"/></div></div></div></div></div></td><td class=\"ssrcss-fvkmzs-StyledTableData ef9ipf1\"><div class=\"ssrcss-qg0qvg-CellWrapper ef9ipf0\"><div data-player-id=\"urn:bbc:sportsdata:football:player:s-atzboo800gv7gic2rgvgo0kq1\" data-team-id=\"urn:bbc:sportsdata:football:team:manchester-city\"></div><div class=\"ssrcss-dngukv-DesktopOnlyWrapper e1v3gc7i0\"><div role=\"text\"><div class=\"ssrcss-m6ah29-PlayerName e1n8xy5b1\">E. Haaland</div><div class=\"ssrcss-qvpga1-TeamsSummary e1n8xy5b0\">Man City</div></div></div><div class=\"ssrcss-bdya4g-MobileOnlyWrapper e1v3gc7i1\"><div role=\"text\"><div class=\"ssrcss-m6ah29-PlayerName e1n8xy5b1\">E. Haaland</div><div class=\"ssrcss-qvpga1-TeamsSummary e1n8xy5b0\">Man City</div></div></div></div></td><td class=\"ssrcss-jfz7x5-StyledTableData ef9ipf1\"><div class=\"ssrcss-8k20kk-CellWrapper ef9ipf0\" value=\"21\">21</div></td><td class=\"ssrcss-db6a34-StyledTableData ef9ipf1\"><div class=\"ssrcss-8k20kk-CellWrapper ef9ipf0\" value=\"21\">21</div></td><td class=\"ssrcss-jfz7x5-StyledTableData ef9ipf1\"><div class=\"ssrcss-150z8d-CellWrapper ef9ipf0\" value=\"3\">3</div></td><td class=\"ssrcss-db6a34-StyledTableData ef9ipf1\"><div class=\"ssrcss-150z8d-CellWrapper ef9ipf0\" value=\"3\">3</div></td><td class=\"ssrcss-jfz7x5-StyledTableData ef9ipf1\"><div class=\"ssrcss-150z8d-CellWrapper ef9ipf0\" value=\"28\">28</div></td><td class=\"ssrcss-db6a34-StyledTableData ef9ipf1\"><div class=\"ssrcss-150z8d-CellWrapper ef9ipf0\" value=\"28\">28</div></td><td class=\"ssrcss-jfz7x5-StyledTableData ef9ipf1\"><div class=\"ssrcss-150z8d-CellWrapper ef9ipf0\" value=\"0.76\">0.76</div></td><td class=\"ssrcss-1t1swew-StyledTableData ef9ipf1\"><div class=\"ssrcss-150z8d-CellWrapper ef9ipf0\" value=\"118\">118</div></td><td class=\"ssrcss-17jls80-StyledTableData ef9ipf1\"><div class=\"ssrcss-150z8d-CellWrapper ef9ipf0\" value=\"118\">118</div></td><td class=\"ssrcss-1dut4x2-StyledTableData ef9ipf1\"><div class=\"ssrcss-150z8d-CellWrapper ef9ipf0\" value=\"102\">102</div></td><td class=\"ssrcss-jfz7x5-StyledTableData ef9ipf1\"><div class=\"ssrcss-150z8d-CellWrapper ef9ipf0\" value=\"21%\">21%</div></td><td class=\"ssrcss-1dut4x2-StyledTableData ef9ipf1\"><div class=\"ssrcss-150z8d-CellWrapper ef9ipf0\" value=\"57%\">57%</div></td></tr>, <tr class=\"ssrcss-dhlz6k-TableRowBody e1icz100\"><td class=\"ssrcss-fvkmzs-StyledTableData ef9ipf1\"><div class=\"ssrcss-qg0qvg-CellWrapper ef9ipf0\" value=\"3\"><div class=\"ssrcss-wjp01q-RankAndBadgeWrapper e1n6h4mf2\"><span class=\"ssrcss-1xljqjf-Rank e1n6h4mf1\">3</span><div class=\"ssrcss-833zc8-BadgeWrapper e1n6h4mf0\"><div class=\"ssrcss-bdya4g-MobileOnlyWrapper e1v3gc7i1\"><div class=\"ssrcss-1ij97kg-BadgeContainer ezmsq4q1\" data-testid=\"badge-container-newcastle-united\" size=\"20\"><img alt=\"\" aria-hidden=\"true\" class=\"ssrcss-1knyx38-BadgeImage ezmsq4q0\" data-testid=\"badge-img-newcastle-united\" src=\"https://static.files.bbci.co.uk/core/website/assets/static/sport/football/newcastle-united.56c106a0ec.svg\"/></div></div><div class=\"ssrcss-dngukv-DesktopOnlyWrapper e1v3gc7i0\"><div class=\"ssrcss-1b9x5pa-BadgeContainer ezmsq4q1\" data-testid=\"badge-container-newcastle-united\" size=\"24\"><img alt=\"\" aria-hidden=\"true\" class=\"ssrcss-1knyx38-BadgeImage ezmsq4q0\" data-testid=\"badge-img-newcastle-united\" src=\"https://static.files.bbci.co.uk/core/website/assets/static/sport/football/newcastle-united.56c106a0ec.svg\"/></div></div></div></div></div></td><td class=\"ssrcss-fvkmzs-StyledTableData ef9ipf1\"><div class=\"ssrcss-qg0qvg-CellWrapper ef9ipf0\"><div data-player-id=\"urn:bbc:sportsdata:football:player:s-7x6mnev1ob4u5ffmdsvusb4rt\" data-team-id=\"urn:bbc:sportsdata:football:team:newcastle-united\"></div><div class=\"ssrcss-dngukv-DesktopOnlyWrapper e1v3gc7i0\"><div role=\"text\"><div class=\"ssrcss-m6ah29-PlayerName e1n8xy5b1\">A. Isak</div><div class=\"ssrcss-qvpga1-TeamsSummary e1n8xy5b0\">Newcastle</div></div></div><div class=\"ssrcss-bdya4g-MobileOnlyWrapper e1v3gc7i1\"><div role=\"text\"><div class=\"ssrcss-m6ah29-PlayerName e1n8xy5b1\">A. Isak</div><div class=\"ssrcss-qvpga1-TeamsSummary e1n8xy5b0\">Newcastle</div></div></div></div></td><td class=\"ssrcss-jfz7x5-StyledTableData ef9ipf1\"><div class=\"ssrcss-8k20kk-CellWrapper ef9ipf0\" value=\"20\">20</div></td><td class=\"ssrcss-db6a34-StyledTableData ef9ipf1\"><div class=\"ssrcss-8k20kk-CellWrapper ef9ipf0\" value=\"20\">20</div></td><td class=\"ssrcss-jfz7x5-StyledTableData ef9ipf1\"><div class=\"ssrcss-150z8d-CellWrapper ef9ipf0\" value=\"5\">5</div></td><td class=\"ssrcss-db6a34-StyledTableData ef9ipf1\"><div class=\"ssrcss-150z8d-CellWrapper ef9ipf0\" value=\"5\">5</div></td><td class=\"ssrcss-jfz7x5-StyledTableData ef9ipf1\"><div class=\"ssrcss-150z8d-CellWrapper ef9ipf0\" value=\"26\">26</div></td><td class=\"ssrcss-db6a34-StyledTableData ef9ipf1\"><div class=\"ssrcss-150z8d-CellWrapper ef9ipf0\" value=\"26\">26</div></td><td class=\"ssrcss-jfz7x5-StyledTableData ef9ipf1\"><div class=\"ssrcss-150z8d-CellWrapper ef9ipf0\" value=\"0.85\">0.85</div></td><td class=\"ssrcss-1t1swew-StyledTableData ef9ipf1\"><div class=\"ssrcss-150z8d-CellWrapper ef9ipf0\" value=\"106\">106</div></td><td class=\"ssrcss-17jls80-StyledTableData ef9ipf1\"><div class=\"ssrcss-150z8d-CellWrapper ef9ipf0\" value=\"106\">106</div></td><td class=\"ssrcss-1dut4x2-StyledTableData ef9ipf1\"><div class=\"ssrcss-150z8d-CellWrapper ef9ipf0\" value=\"72\">72</div></td><td class=\"ssrcss-jfz7x5-StyledTableData ef9ipf1\"><div class=\"ssrcss-150z8d-CellWrapper ef9ipf0\" value=\"28%\">28%</div></td><td class=\"ssrcss-1dut4x2-StyledTableData ef9ipf1\"><div class=\"ssrcss-150z8d-CellWrapper ef9ipf0\" value=\"49%\">49%</div></td></tr>, <tr class=\"ssrcss-dhlz6k-TableRowBody e1icz100\"><td class=\"ssrcss-fvkmzs-StyledTableData ef9ipf1\"><div class=\"ssrcss-qg0qvg-CellWrapper ef9ipf0\" value=\"4\"><div class=\"ssrcss-wjp01q-RankAndBadgeWrapper e1n6h4mf2\"><span class=\"ssrcss-1xljqjf-Rank e1n6h4mf1\">4</span><div class=\"ssrcss-833zc8-BadgeWrapper e1n6h4mf0\"><div class=\"ssrcss-bdya4g-MobileOnlyWrapper e1v3gc7i1\"><div class=\"ssrcss-1ij97kg-BadgeContainer ezmsq4q1\" data-testid=\"badge-container-nottingham-forest\" size=\"20\"><img alt=\"\" aria-hidden=\"true\" class=\"ssrcss-1knyx38-BadgeImage ezmsq4q0\" data-testid=\"badge-img-nottingham-forest\" src=\"https://static.files.bbci.co.uk/core/website/assets/static/sport/football/nottingham-forest.8152a495d9.svg\"/></div></div><div class=\"ssrcss-dngukv-DesktopOnlyWrapper e1v3gc7i0\"><div class=\"ssrcss-1b9x5pa-BadgeContainer ezmsq4q1\" data-testid=\"badge-container-nottingham-forest\" size=\"24\"><img alt=\"\" aria-hidden=\"true\" class=\"ssrcss-1knyx38-BadgeImage ezmsq4q0\" data-testid=\"badge-img-nottingham-forest\" src=\"https://static.files.bbci.co.uk/core/website/assets/static/sport/football/nottingham-forest.8152a495d9.svg\"/></div></div></div></div></div></td><td class=\"ssrcss-fvkmzs-StyledTableData ef9ipf1\"><div class=\"ssrcss-qg0qvg-CellWrapper ef9ipf0\"><div data-player-id=\"urn:bbc:sportsdata:football:player:s-cjdycctu96jilvbvnl7ndh9sl\" data-team-id=\"urn:bbc:sportsdata:football:team:nottingham-forest\"></div><div class=\"ssrcss-dngukv-DesktopOnlyWrapper e1v3gc7i0\"><div role=\"text\"><div class=\"ssrcss-m6ah29-PlayerName e1n8xy5b1\">C. Wood</div><div class=\"ssrcss-qvpga1-TeamsSummary e1n8xy5b0\">Nottm Forest</div></div></div><div class=\"ssrcss-bdya4g-MobileOnlyWrapper e1v3gc7i1\"><div role=\"text\"><div class=\"ssrcss-m6ah29-PlayerName e1n8xy5b1\">C. Wood</div><div class=\"ssrcss-qvpga1-TeamsSummary e1n8xy5b0\">Nottm Forest</div></div></div></div></td><td class=\"ssrcss-jfz7x5-StyledTableData ef9ipf1\"><div class=\"ssrcss-8k20kk-CellWrapper ef9ipf0\" value=\"18\">18</div></td><td class=\"ssrcss-db6a34-StyledTableData ef9ipf1\"><div class=\"ssrcss-8k20kk-CellWrapper ef9ipf0\" value=\"18\">18</div></td><td class=\"ssrcss-jfz7x5-StyledTableData ef9ipf1\"><div class=\"ssrcss-150z8d-CellWrapper ef9ipf0\" value=\"3\">3</div></td><td class=\"ssrcss-db6a34-StyledTableData ef9ipf1\"><div class=\"ssrcss-150z8d-CellWrapper ef9ipf0\" value=\"3\">3</div></td><td class=\"ssrcss-jfz7x5-StyledTableData ef9ipf1\"><div class=\"ssrcss-150z8d-CellWrapper ef9ipf0\" value=\"29\">29</div></td><td class=\"ssrcss-db6a34-StyledTableData ef9ipf1\"><div class=\"ssrcss-150z8d-CellWrapper ef9ipf0\" value=\"29\">29</div></td><td class=\"ssrcss-jfz7x5-StyledTableData ef9ipf1\"><div class=\"ssrcss-150z8d-CellWrapper ef9ipf0\" value=\"0.69\">0.69</div></td><td class=\"ssrcss-1t1swew-StyledTableData ef9ipf1\"><div class=\"ssrcss-150z8d-CellWrapper ef9ipf0\" value=\"131\">131</div></td><td class=\"ssrcss-17jls80-StyledTableData ef9ipf1\"><div class=\"ssrcss-150z8d-CellWrapper ef9ipf0\" value=\"131\">131</div></td><td class=\"ssrcss-1dut4x2-StyledTableData ef9ipf1\"><div class=\"ssrcss-150z8d-CellWrapper ef9ipf0\" value=\"53\">53</div></td><td class=\"ssrcss-jfz7x5-StyledTableData ef9ipf1\"><div class=\"ssrcss-150z8d-CellWrapper ef9ipf0\" value=\"34%\">34%</div></td><td class=\"ssrcss-1dut4x2-StyledTableData ef9ipf1\"><div class=\"ssrcss-150z8d-CellWrapper ef9ipf0\" value=\"60%\">60%</div></td></tr>, <tr class=\"ssrcss-dhlz6k-TableRowBody e1icz100\"><td class=\"ssrcss-fvkmzs-StyledTableData ef9ipf1\"><div class=\"ssrcss-qg0qvg-CellWrapper ef9ipf0\" value=\"5\"><div class=\"ssrcss-wjp01q-RankAndBadgeWrapper e1n6h4mf2\"><span class=\"ssrcss-1xljqjf-Rank e1n6h4mf1\">5</span><div class=\"ssrcss-833zc8-BadgeWrapper e1n6h4mf0\"><div class=\"ssrcss-bdya4g-MobileOnlyWrapper e1v3gc7i1\"><div class=\"ssrcss-1ij97kg-BadgeContainer ezmsq4q1\" data-testid=\"badge-container-brentford\" size=\"20\"><img alt=\"\" aria-hidden=\"true\" class=\"ssrcss-1knyx38-BadgeImage ezmsq4q0\" data-testid=\"badge-img-brentford\" src=\"https://static.files.bbci.co.uk/core/website/assets/static/sport/football/brentford.30131acd78.svg\"/></div></div><div class=\"ssrcss-dngukv-DesktopOnlyWrapper e1v3gc7i0\"><div class=\"ssrcss-1b9x5pa-BadgeContainer ezmsq4q1\" data-testid=\"badge-container-brentford\" size=\"24\"><img alt=\"\" aria-hidden=\"true\" class=\"ssrcss-1knyx38-BadgeImage ezmsq4q0\" data-testid=\"badge-img-brentford\" src=\"https://static.files.bbci.co.uk/core/website/assets/static/sport/football/brentford.30131acd78.svg\"/></div></div></div></div></div></td><td class=\"ssrcss-fvkmzs-StyledTableData ef9ipf1\"><div class=\"ssrcss-qg0qvg-CellWrapper ef9ipf0\"><div data-player-id=\"urn:bbc:sportsdata:football:player:s-v78uhwxgzojcec8lsdvucusp\" data-team-id=\"urn:bbc:sportsdata:football:team:brentford\"></div><div class=\"ssrcss-dngukv-DesktopOnlyWrapper e1v3gc7i0\"><div role=\"text\"><div class=\"ssrcss-m6ah29-PlayerName e1n8xy5b1\">B. Mbeumo</div><div class=\"ssrcss-qvpga1-TeamsSummary e1n8xy5b0\">Brentford</div></div></div><div class=\"ssrcss-bdya4g-MobileOnlyWrapper e1v3gc7i1\"><div role=\"text\"><div class=\"ssrcss-m6ah29-PlayerName e1n8xy5b1\">B. Mbeumo</div><div class=\"ssrcss-qvpga1-TeamsSummary e1n8xy5b0\">Brentford</div></div></div></div></td><td class=\"ssrcss-jfz7x5-StyledTableData ef9ipf1\"><div class=\"ssrcss-8k20kk-CellWrapper ef9ipf0\" value=\"16\">16</div></td><td class=\"ssrcss-db6a34-StyledTableData ef9ipf1\"><div class=\"ssrcss-8k20kk-CellWrapper ef9ipf0\" value=\"16\">16</div></td><td class=\"ssrcss-jfz7x5-StyledTableData ef9ipf1\"><div class=\"ssrcss-150z8d-CellWrapper ef9ipf0\" value=\"5\">5</div></td><td class=\"ssrcss-db6a34-StyledTableData ef9ipf1\"><div class=\"ssrcss-150z8d-CellWrapper ef9ipf0\" value=\"5\">5</div></td><td class=\"ssrcss-jfz7x5-StyledTableData ef9ipf1\"><div class=\"ssrcss-150z8d-CellWrapper ef9ipf0\" value=\"30\">30</div></td><td class=\"ssrcss-db6a34-StyledTableData ef9ipf1\"><div class=\"ssrcss-150z8d-CellWrapper ef9ipf0\" value=\"30\">30</div></td><td class=\"ssrcss-jfz7x5-StyledTableData ef9ipf1\"><div class=\"ssrcss-150z8d-CellWrapper ef9ipf0\" value=\"0.53\">0.53</div></td><td class=\"ssrcss-1t1swew-StyledTableData ef9ipf1\"><div class=\"ssrcss-150z8d-CellWrapper ef9ipf0\" value=\"168\">168</div></td><td class=\"ssrcss-17jls80-StyledTableData ef9ipf1\"><div class=\"ssrcss-150z8d-CellWrapper ef9ipf0\" value=\"168\">168</div></td><td class=\"ssrcss-1dut4x2-StyledTableData ef9ipf1\"><div class=\"ssrcss-150z8d-CellWrapper ef9ipf0\" value=\"65\">65</div></td><td class=\"ssrcss-jfz7x5-StyledTableData ef9ipf1\"><div class=\"ssrcss-150z8d-CellWrapper ef9ipf0\" value=\"25%\">25%</div></td><td class=\"ssrcss-1dut4x2-StyledTableData ef9ipf1\"><div class=\"ssrcss-150z8d-CellWrapper ef9ipf0\" value=\"51%\">51%</div></td></tr>, <tr class=\"ssrcss-dhlz6k-TableRowBody e1icz100\"><td class=\"ssrcss-fvkmzs-StyledTableData ef9ipf1\"><div class=\"ssrcss-qg0qvg-CellWrapper ef9ipf0\" value=\"6\"><div class=\"ssrcss-wjp01q-RankAndBadgeWrapper e1n6h4mf2\"><span class=\"ssrcss-1xljqjf-Rank e1n6h4mf1\">6</span><div class=\"ssrcss-833zc8-BadgeWrapper e1n6h4mf0\"><div class=\"ssrcss-bdya4g-MobileOnlyWrapper e1v3gc7i1\"><div class=\"ssrcss-1ij97kg-BadgeContainer ezmsq4q1\" data-testid=\"badge-container-chelsea\" size=\"20\"><img alt=\"\" aria-hidden=\"true\" class=\"ssrcss-1knyx38-BadgeImage ezmsq4q0\" data-testid=\"badge-img-chelsea\" src=\"https://static.files.bbci.co.uk/core/website/assets/static/sport/football/chelsea.065d90cfec.svg\"/></div></div><div class=\"ssrcss-dngukv-DesktopOnlyWrapper e1v3gc7i0\"><div class=\"ssrcss-1b9x5pa-BadgeContainer ezmsq4q1\" data-testid=\"badge-container-chelsea\" size=\"24\"><img alt=\"\" aria-hidden=\"true\" class=\"ssrcss-1knyx38-BadgeImage ezmsq4q0\" data-testid=\"badge-img-chelsea\" src=\"https://static.files.bbci.co.uk/core/website/assets/static/sport/football/chelsea.065d90cfec.svg\"/></div></div></div></div></div></td><td class=\"ssrcss-fvkmzs-StyledTableData ef9ipf1\"><div class=\"ssrcss-qg0qvg-CellWrapper ef9ipf0\"><div data-player-id=\"urn:bbc:sportsdata:football:player:s-dl10343h8yopcgerzur5samwa\" data-team-id=\"urn:bbc:sportsdata:football:team:chelsea\"></div><div class=\"ssrcss-dngukv-DesktopOnlyWrapper e1v3gc7i0\"><div role=\"text\"><div class=\"ssrcss-m6ah29-PlayerName e1n8xy5b1\">C. Palmer</div><div class=\"ssrcss-qvpga1-TeamsSummary e1n8xy5b0\">Chelsea</div></div></div><div class=\"ssrcss-bdya4g-MobileOnlyWrapper e1v3gc7i1\"><div role=\"text\"><div class=\"ssrcss-m6ah29-PlayerName e1n8xy5b1\">C. Palmer</div><div class=\"ssrcss-qvpga1-TeamsSummary e1n8xy5b0\">Chelsea</div></div></div></div></td><td class=\"ssrcss-jfz7x5-StyledTableData ef9ipf1\"><div class=\"ssrcss-8k20kk-CellWrapper ef9ipf0\" value=\"14\">14</div></td><td class=\"ssrcss-db6a34-StyledTableData ef9ipf1\"><div class=\"ssrcss-8k20kk-CellWrapper ef9ipf0\" value=\"14\">14</div></td><td class=\"ssrcss-jfz7x5-StyledTableData ef9ipf1\"><div class=\"ssrcss-150z8d-CellWrapper ef9ipf0\" value=\"7\">7</div></td><td class=\"ssrcss-db6a34-StyledTableData ef9ipf1\"><div class=\"ssrcss-150z8d-CellWrapper ef9ipf0\" value=\"7\">7</div></td><td class=\"ssrcss-jfz7x5-StyledTableData ef9ipf1\"><div class=\"ssrcss-150z8d-CellWrapper ef9ipf0\" value=\"29\">29</div></td><td class=\"ssrcss-db6a34-StyledTableData ef9ipf1\"><div class=\"ssrcss-150z8d-CellWrapper ef9ipf0\" value=\"29\">29</div></td><td class=\"ssrcss-jfz7x5-StyledTableData ef9ipf1\"><div class=\"ssrcss-150z8d-CellWrapper ef9ipf0\" value=\"0.5\">0.5</div></td><td class=\"ssrcss-1t1swew-StyledTableData ef9ipf1\"><div class=\"ssrcss-150z8d-CellWrapper ef9ipf0\" value=\"181\">181</div></td><td class=\"ssrcss-17jls80-StyledTableData ef9ipf1\"><div class=\"ssrcss-150z8d-CellWrapper ef9ipf0\" value=\"181\">181</div></td><td class=\"ssrcss-1dut4x2-StyledTableData ef9ipf1\"><div class=\"ssrcss-150z8d-CellWrapper ef9ipf0\" value=\"104\">104</div></td><td class=\"ssrcss-jfz7x5-StyledTableData ef9ipf1\"><div class=\"ssrcss-150z8d-CellWrapper ef9ipf0\" value=\"13%\">13%</div></td><td class=\"ssrcss-1dut4x2-StyledTableData ef9ipf1\"><div class=\"ssrcss-150z8d-CellWrapper ef9ipf0\" value=\"42%\">42%</div></td></tr>, <tr class=\"ssrcss-dhlz6k-TableRowBody e1icz100\"><td class=\"ssrcss-fvkmzs-StyledTableData ef9ipf1\"><div class=\"ssrcss-qg0qvg-CellWrapper ef9ipf0\" value=\"6\"><div class=\"ssrcss-wjp01q-RankAndBadgeWrapper e1n6h4mf2\"><span class=\"ssrcss-1xljqjf-Rank e1n6h4mf1\">6</span><div class=\"ssrcss-833zc8-BadgeWrapper e1n6h4mf0\"><div class=\"ssrcss-bdya4g-MobileOnlyWrapper e1v3gc7i1\"><div class=\"ssrcss-1ij97kg-BadgeContainer ezmsq4q1\" data-testid=\"badge-container-brentford\" size=\"20\"><img alt=\"\" aria-hidden=\"true\" class=\"ssrcss-1knyx38-BadgeImage ezmsq4q0\" data-testid=\"badge-img-brentford\" src=\"https://static.files.bbci.co.uk/core/website/assets/static/sport/football/brentford.30131acd78.svg\"/></div></div><div class=\"ssrcss-dngukv-DesktopOnlyWrapper e1v3gc7i0\"><div class=\"ssrcss-1b9x5pa-BadgeContainer ezmsq4q1\" data-testid=\"badge-container-brentford\" size=\"24\"><img alt=\"\" aria-hidden=\"true\" class=\"ssrcss-1knyx38-BadgeImage ezmsq4q0\" data-testid=\"badge-img-brentford\" src=\"https://static.files.bbci.co.uk/core/website/assets/static/sport/football/brentford.30131acd78.svg\"/></div></div></div></div></div></td><td class=\"ssrcss-fvkmzs-StyledTableData ef9ipf1\"><div class=\"ssrcss-qg0qvg-CellWrapper ef9ipf0\"><div data-player-id=\"urn:bbc:sportsdata:football:player:s-bxjc2heo4ve54cyvw98qcck45\" data-team-id=\"urn:bbc:sportsdata:football:team:brentford\"></div><div class=\"ssrcss-dngukv-DesktopOnlyWrapper e1v3gc7i0\"><div role=\"text\"><div class=\"ssrcss-m6ah29-PlayerName e1n8xy5b1\">Y. Wissa</div><div class=\"ssrcss-qvpga1-TeamsSummary e1n8xy5b0\">Brentford</div></div></div><div class=\"ssrcss-bdya4g-MobileOnlyWrapper e1v3gc7i1\"><div role=\"text\"><div class=\"ssrcss-m6ah29-PlayerName e1n8xy5b1\">Y. Wissa</div><div class=\"ssrcss-qvpga1-TeamsSummary e1n8xy5b0\">Brentford</div></div></div></div></td><td class=\"ssrcss-jfz7x5-StyledTableData ef9ipf1\"><div class=\"ssrcss-8k20kk-CellWrapper ef9ipf0\" value=\"14\">14</div></td><td class=\"ssrcss-db6a34-StyledTableData ef9ipf1\"><div class=\"ssrcss-8k20kk-CellWrapper ef9ipf0\" value=\"14\">14</div></td><td class=\"ssrcss-jfz7x5-StyledTableData ef9ipf1\"><div class=\"ssrcss-150z8d-CellWrapper ef9ipf0\" value=\"2\">2</div></td><td class=\"ssrcss-db6a34-StyledTableData ef9ipf1\"><div class=\"ssrcss-150z8d-CellWrapper ef9ipf0\" value=\"2\">2</div></td><td class=\"ssrcss-jfz7x5-StyledTableData ef9ipf1\"><div class=\"ssrcss-150z8d-CellWrapper ef9ipf0\" value=\"27\">27</div></td><td class=\"ssrcss-db6a34-StyledTableData ef9ipf1\"><div class=\"ssrcss-150z8d-CellWrapper ef9ipf0\" value=\"27\">27</div></td><td class=\"ssrcss-jfz7x5-StyledTableData ef9ipf1\"><div class=\"ssrcss-150z8d-CellWrapper ef9ipf0\" value=\"0.57\">0.57</div></td><td class=\"ssrcss-1t1swew-StyledTableData ef9ipf1\"><div class=\"ssrcss-150z8d-CellWrapper ef9ipf0\" value=\"158\">158</div></td><td class=\"ssrcss-17jls80-StyledTableData ef9ipf1\"><div class=\"ssrcss-150z8d-CellWrapper ef9ipf0\" value=\"158\">158</div></td><td class=\"ssrcss-1dut4x2-StyledTableData ef9ipf1\"><div class=\"ssrcss-150z8d-CellWrapper ef9ipf0\" value=\"66\">66</div></td><td class=\"ssrcss-jfz7x5-StyledTableData ef9ipf1\"><div class=\"ssrcss-150z8d-CellWrapper ef9ipf0\" value=\"21%\">21%</div></td><td class=\"ssrcss-1dut4x2-StyledTableData ef9ipf1\"><div class=\"ssrcss-150z8d-CellWrapper ef9ipf0\" value=\"48%\">48%</div></td></tr>, <tr class=\"ssrcss-dhlz6k-TableRowBody e1icz100\"><td class=\"ssrcss-fvkmzs-StyledTableData ef9ipf1\"><div class=\"ssrcss-qg0qvg-CellWrapper ef9ipf0\" value=\"8\"><div class=\"ssrcss-wjp01q-RankAndBadgeWrapper e1n6h4mf2\"><span class=\"ssrcss-1xljqjf-Rank e1n6h4mf1\">8</span><div class=\"ssrcss-833zc8-BadgeWrapper e1n6h4mf0\"><div class=\"ssrcss-bdya4g-MobileOnlyWrapper e1v3gc7i1\"><div class=\"ssrcss-1ij97kg-BadgeContainer ezmsq4q1\" data-testid=\"badge-container-aston-villa\" size=\"20\"><img alt=\"\" aria-hidden=\"true\" class=\"ssrcss-1knyx38-BadgeImage ezmsq4q0\" data-testid=\"badge-img-aston-villa\" src=\"https://static.files.bbci.co.uk/core/website/assets/static/sport/football/aston-villa.7462c0d498.svg\"/></div></div><div class=\"ssrcss-dngukv-DesktopOnlyWrapper e1v3gc7i0\"><div class=\"ssrcss-1b9x5pa-BadgeContainer ezmsq4q1\" data-testid=\"badge-container-aston-villa\" size=\"24\"><img alt=\"\" aria-hidden=\"true\" class=\"ssrcss-1knyx38-BadgeImage ezmsq4q0\" data-testid=\"badge-img-aston-villa\" src=\"https://static.files.bbci.co.uk/core/website/assets/static/sport/football/aston-villa.7462c0d498.svg\"/></div></div></div></div></div></td><td class=\"ssrcss-fvkmzs-StyledTableData ef9ipf1\"><div class=\"ssrcss-qg0qvg-CellWrapper ef9ipf0\"><div data-player-id=\"urn:bbc:sportsdata:football:player:s-5m0j33eoa5c8pqlr0tdf7undh\" data-team-id=\"urn:bbc:sportsdata:football:team:aston-villa\"></div><div class=\"ssrcss-dngukv-DesktopOnlyWrapper e1v3gc7i0\"><div role=\"text\"><div class=\"ssrcss-m6ah29-PlayerName e1n8xy5b1\">O. Watkins</div><div class=\"ssrcss-qvpga1-TeamsSummary e1n8xy5b0\">Aston Villa</div></div></div><div class=\"ssrcss-bdya4g-MobileOnlyWrapper e1v3gc7i1\"><div role=\"text\"><div class=\"ssrcss-m6ah29-PlayerName e1n8xy5b1\">O. Watkins</div><div class=\"ssrcss-qvpga1-TeamsSummary e1n8xy5b0\">Aston Villa</div></div></div></div></td><td class=\"ssrcss-jfz7x5-StyledTableData ef9ipf1\"><div class=\"ssrcss-8k20kk-CellWrapper ef9ipf0\" value=\"13\">13</div></td><td class=\"ssrcss-db6a34-StyledTableData ef9ipf1\"><div class=\"ssrcss-8k20kk-CellWrapper ef9ipf0\" value=\"13\">13</div></td><td class=\"ssrcss-jfz7x5-StyledTableData ef9ipf1\"><div class=\"ssrcss-150z8d-CellWrapper ef9ipf0\" value=\"6\">6</div></td><td class=\"ssrcss-db6a34-StyledTableData ef9ipf1\"><div class=\"ssrcss-150z8d-CellWrapper ef9ipf0\" value=\"6\">6</div></td><td class=\"ssrcss-jfz7x5-StyledTableData ef9ipf1\"><div class=\"ssrcss-150z8d-CellWrapper ef9ipf0\" value=\"31\">31</div></td><td class=\"ssrcss-db6a34-StyledTableData ef9ipf1\"><div class=\"ssrcss-150z8d-CellWrapper ef9ipf0\" value=\"31\">31</div></td><td class=\"ssrcss-jfz7x5-StyledTableData ef9ipf1\"><div class=\"ssrcss-150z8d-CellWrapper ef9ipf0\" value=\"0.54\">0.54</div></td><td class=\"ssrcss-1t1swew-StyledTableData ef9ipf1\"><div class=\"ssrcss-150z8d-CellWrapper ef9ipf0\" value=\"166\">166</div></td><td class=\"ssrcss-17jls80-StyledTableData ef9ipf1\"><div class=\"ssrcss-150z8d-CellWrapper ef9ipf0\" value=\"166\">166</div></td><td class=\"ssrcss-1dut4x2-StyledTableData ef9ipf1\"><div class=\"ssrcss-150z8d-CellWrapper ef9ipf0\" value=\"72\">72</div></td><td class=\"ssrcss-jfz7x5-StyledTableData ef9ipf1\"><div class=\"ssrcss-150z8d-CellWrapper ef9ipf0\" value=\"18%\">18%</div></td><td class=\"ssrcss-1dut4x2-StyledTableData ef9ipf1\"><div class=\"ssrcss-150z8d-CellWrapper ef9ipf0\" value=\"47%\">47%</div></td></tr>, <tr class=\"ssrcss-dhlz6k-TableRowBody e1icz100\"><td class=\"ssrcss-fvkmzs-StyledTableData ef9ipf1\"><div class=\"ssrcss-qg0qvg-CellWrapper ef9ipf0\" value=\"8\"><div class=\"ssrcss-wjp01q-RankAndBadgeWrapper e1n6h4mf2\"><span class=\"ssrcss-1xljqjf-Rank e1n6h4mf1\">8</span><div class=\"ssrcss-833zc8-BadgeWrapper e1n6h4mf0\"><div class=\"ssrcss-bdya4g-MobileOnlyWrapper e1v3gc7i1\"><div class=\"ssrcss-1ij97kg-BadgeContainer ezmsq4q1\" data-testid=\"badge-container-wolverhampton-wanderers\" size=\"20\"><img alt=\"\" aria-hidden=\"true\" class=\"ssrcss-1knyx38-BadgeImage ezmsq4q0\" data-testid=\"badge-img-wolverhampton-wanderers\" src=\"https://static.files.bbci.co.uk/core/website/assets/static/sport/football/wolverhampton-wanderers.11a9da51bf.svg\"/></div></div><div class=\"ssrcss-dngukv-DesktopOnlyWrapper e1v3gc7i0\"><div class=\"ssrcss-1b9x5pa-BadgeContainer ezmsq4q1\" data-testid=\"badge-container-wolverhampton-wanderers\" size=\"24\"><img alt=\"\" aria-hidden=\"true\" class=\"ssrcss-1knyx38-BadgeImage ezmsq4q0\" data-testid=\"badge-img-wolverhampton-wanderers\" src=\"https://static.files.bbci.co.uk/core/website/assets/static/sport/football/wolverhampton-wanderers.11a9da51bf.svg\"/></div></div></div></div></div></td><td class=\"ssrcss-fvkmzs-StyledTableData ef9ipf1\"><div class=\"ssrcss-qg0qvg-CellWrapper ef9ipf0\"><div data-player-id=\"urn:bbc:sportsdata:football:player:s-9rm3r46uzxlmuqnp0jo4danhm\" data-team-id=\"urn:bbc:sportsdata:football:team:wolverhampton-wanderers\"></div><div class=\"ssrcss-dngukv-DesktopOnlyWrapper e1v3gc7i0\"><div role=\"text\"><div class=\"ssrcss-m6ah29-PlayerName e1n8xy5b1\">Matheus Cunha</div><div class=\"ssrcss-qvpga1-TeamsSummary e1n8xy5b0\">Wolves</div></div></div><div class=\"ssrcss-bdya4g-MobileOnlyWrapper e1v3gc7i1\"><div role=\"text\"><div class=\"ssrcss-m6ah29-PlayerName e1n8xy5b1\">Matheus Cunha</div><div class=\"ssrcss-qvpga1-TeamsSummary e1n8xy5b0\">Wolves</div></div></div></div></td><td class=\"ssrcss-jfz7x5-StyledTableData ef9ipf1\"><div class=\"ssrcss-8k20kk-CellWrapper ef9ipf0\" value=\"13\">13</div></td><td class=\"ssrcss-db6a34-StyledTableData ef9ipf1\"><div class=\"ssrcss-8k20kk-CellWrapper ef9ipf0\" value=\"13\">13</div></td><td class=\"ssrcss-jfz7x5-StyledTableData ef9ipf1\"><div class=\"ssrcss-150z8d-CellWrapper ef9ipf0\" value=\"4\">4</div></td><td class=\"ssrcss-db6a34-StyledTableData ef9ipf1\"><div class=\"ssrcss-150z8d-CellWrapper ef9ipf0\" value=\"4\">4</div></td><td class=\"ssrcss-jfz7x5-StyledTableData ef9ipf1\"><div class=\"ssrcss-150z8d-CellWrapper ef9ipf0\" value=\"26\">26</div></td><td class=\"ssrcss-db6a34-StyledTableData ef9ipf1\"><div class=\"ssrcss-150z8d-CellWrapper ef9ipf0\" value=\"26\">26</div></td><td class=\"ssrcss-jfz7x5-StyledTableData ef9ipf1\"><div class=\"ssrcss-150z8d-CellWrapper ef9ipf0\" value=\"0.55\">0.55</div></td><td class=\"ssrcss-1t1swew-StyledTableData ef9ipf1\"><div class=\"ssrcss-150z8d-CellWrapper ef9ipf0\" value=\"165\">165</div></td><td class=\"ssrcss-17jls80-StyledTableData ef9ipf1\"><div class=\"ssrcss-150z8d-CellWrapper ef9ipf0\" value=\"165\">165</div></td><td class=\"ssrcss-1dut4x2-StyledTableData ef9ipf1\"><div class=\"ssrcss-150z8d-CellWrapper ef9ipf0\" value=\"86\">86</div></td><td class=\"ssrcss-jfz7x5-StyledTableData ef9ipf1\"><div class=\"ssrcss-150z8d-CellWrapper ef9ipf0\" value=\"15%\">15%</div></td><td class=\"ssrcss-1dut4x2-StyledTableData ef9ipf1\"><div class=\"ssrcss-150z8d-CellWrapper ef9ipf0\" value=\"41%\">41%</div></td></tr>, <tr class=\"ssrcss-dhlz6k-TableRowBody e1icz100\"><td class=\"ssrcss-fvkmzs-StyledTableData ef9ipf1\"><div class=\"ssrcss-qg0qvg-CellWrapper ef9ipf0\" value=\"8\"><div class=\"ssrcss-wjp01q-RankAndBadgeWrapper e1n6h4mf2\"><span class=\"ssrcss-1xljqjf-Rank e1n6h4mf1\">8</span><div class=\"ssrcss-833zc8-BadgeWrapper e1n6h4mf0\"><div class=\"ssrcss-bdya4g-MobileOnlyWrapper e1v3gc7i1\"><div class=\"ssrcss-1ij97kg-BadgeContainer ezmsq4q1\" data-testid=\"badge-container-crystal-palace\" size=\"20\"><img alt=\"\" aria-hidden=\"true\" class=\"ssrcss-1knyx38-BadgeImage ezmsq4q0\" data-testid=\"badge-img-crystal-palace\" src=\"https://static.files.bbci.co.uk/core/website/assets/static/sport/football/crystal-palace.d1d34eb505.svg\"/></div></div><div class=\"ssrcss-dngukv-DesktopOnlyWrapper e1v3gc7i0\"><div class=\"ssrcss-1b9x5pa-BadgeContainer ezmsq4q1\" data-testid=\"badge-container-crystal-palace\" size=\"24\"><img alt=\"\" aria-hidden=\"true\" class=\"ssrcss-1knyx38-BadgeImage ezmsq4q0\" data-testid=\"badge-img-crystal-palace\" src=\"https://static.files.bbci.co.uk/core/website/assets/static/sport/football/crystal-palace.d1d34eb505.svg\"/></div></div></div></div></div></td><td class=\"ssrcss-fvkmzs-StyledTableData ef9ipf1\"><div class=\"ssrcss-qg0qvg-CellWrapper ef9ipf0\"><div data-player-id=\"urn:bbc:sportsdata:football:player:s-djgqihf08sxqh0zt2xe2xzv1l\" data-team-id=\"urn:bbc:sportsdata:football:team:crystal-palace\"></div><div class=\"ssrcss-dngukv-DesktopOnlyWrapper e1v3gc7i0\"><div role=\"text\"><div class=\"ssrcss-m6ah29-PlayerName e1n8xy5b1\">J. Mateta</div><div class=\"ssrcss-qvpga1-TeamsSummary e1n8xy5b0\">Crystal Palace</div></div></div><div class=\"ssrcss-bdya4g-MobileOnlyWrapper e1v3gc7i1\"><div role=\"text\"><div class=\"ssrcss-m6ah29-PlayerName e1n8xy5b1\">J. Mateta</div><div class=\"ssrcss-qvpga1-TeamsSummary e1n8xy5b0\">Crystal Palace</div></div></div></div></td><td class=\"ssrcss-jfz7x5-StyledTableData ef9ipf1\"><div class=\"ssrcss-8k20kk-CellWrapper ef9ipf0\" value=\"13\">13</div></td><td class=\"ssrcss-db6a34-StyledTableData ef9ipf1\"><div class=\"ssrcss-8k20kk-CellWrapper ef9ipf0\" value=\"13\">13</div></td><td class=\"ssrcss-jfz7x5-StyledTableData ef9ipf1\"><div class=\"ssrcss-150z8d-CellWrapper ef9ipf0\" value=\"2\">2</div></td><td class=\"ssrcss-db6a34-StyledTableData ef9ipf1\"><div class=\"ssrcss-150z8d-CellWrapper ef9ipf0\" value=\"2\">2</div></td><td class=\"ssrcss-jfz7x5-StyledTableData ef9ipf1\"><div class=\"ssrcss-150z8d-CellWrapper ef9ipf0\" value=\"29\">29</div></td><td class=\"ssrcss-db6a34-StyledTableData ef9ipf1\"><div class=\"ssrcss-150z8d-CellWrapper ef9ipf0\" value=\"29\">29</div></td><td class=\"ssrcss-jfz7x5-StyledTableData ef9ipf1\"><div class=\"ssrcss-150z8d-CellWrapper ef9ipf0\" value=\"0.52\">0.52</div></td><td class=\"ssrcss-1t1swew-StyledTableData ef9ipf1\"><div class=\"ssrcss-150z8d-CellWrapper ef9ipf0\" value=\"174\">174</div></td><td class=\"ssrcss-17jls80-StyledTableData ef9ipf1\"><div class=\"ssrcss-150z8d-CellWrapper ef9ipf0\" value=\"174\">174</div></td><td class=\"ssrcss-1dut4x2-StyledTableData ef9ipf1\"><div class=\"ssrcss-150z8d-CellWrapper ef9ipf0\" value=\"57\">57</div></td><td class=\"ssrcss-jfz7x5-StyledTableData ef9ipf1\"><div class=\"ssrcss-150z8d-CellWrapper ef9ipf0\" value=\"23%\">23%</div></td><td class=\"ssrcss-1dut4x2-StyledTableData ef9ipf1\"><div class=\"ssrcss-150z8d-CellWrapper ef9ipf0\" value=\"47%\">47%</div></td></tr>, <tr class=\"ssrcss-dhlz6k-TableRowBody e1icz100\"><td class=\"ssrcss-fvkmzs-StyledTableData ef9ipf1\"><div class=\"ssrcss-qg0qvg-CellWrapper ef9ipf0\" value=\"11\"><div class=\"ssrcss-wjp01q-RankAndBadgeWrapper e1n6h4mf2\"><span class=\"ssrcss-1xljqjf-Rank e1n6h4mf1\">11</span><div class=\"ssrcss-833zc8-BadgeWrapper e1n6h4mf0\"><div class=\"ssrcss-bdya4g-MobileOnlyWrapper e1v3gc7i1\"><div class=\"ssrcss-1ij97kg-BadgeContainer ezmsq4q1\" data-testid=\"badge-container-afc-bournemouth\" size=\"20\"><img alt=\"\" aria-hidden=\"true\" class=\"ssrcss-1knyx38-BadgeImage ezmsq4q0\" data-testid=\"badge-img-afc-bournemouth\" src=\"https://static.files.bbci.co.uk/core/website/assets/static/sport/football/afc-bournemouth.06b040f58c.svg\"/></div></div><div class=\"ssrcss-dngukv-DesktopOnlyWrapper e1v3gc7i0\"><div class=\"ssrcss-1b9x5pa-BadgeContainer ezmsq4q1\" data-testid=\"badge-container-afc-bournemouth\" size=\"24\"><img alt=\"\" aria-hidden=\"true\" class=\"ssrcss-1knyx38-BadgeImage ezmsq4q0\" data-testid=\"badge-img-afc-bournemouth\" src=\"https://static.files.bbci.co.uk/core/website/assets/static/sport/football/afc-bournemouth.06b040f58c.svg\"/></div></div></div></div></div></td><td class=\"ssrcss-fvkmzs-StyledTableData ef9ipf1\"><div class=\"ssrcss-qg0qvg-CellWrapper ef9ipf0\"><div data-player-id=\"urn:bbc:sportsdata:football:player:s-5qgc6zjc38a5xjl35gs7h3vu1\" data-team-id=\"urn:bbc:sportsdata:football:team:afc-bournemouth\"></div><div class=\"ssrcss-dngukv-DesktopOnlyWrapper e1v3gc7i0\"><div role=\"text\"><div class=\"ssrcss-m6ah29-PlayerName e1n8xy5b1\">J. Kluivert</div><div class=\"ssrcss-qvpga1-TeamsSummary e1n8xy5b0\">Bournemouth</div></div></div><div class=\"ssrcss-bdya4g-MobileOnlyWrapper e1v3gc7i1\"><div role=\"text\"><div class=\"ssrcss-m6ah29-PlayerName e1n8xy5b1\">J. Kluivert</div><div class=\"ssrcss-qvpga1-TeamsSummary e1n8xy5b0\">Bournemouth</div></div></div></div></td><td class=\"ssrcss-jfz7x5-StyledTableData ef9ipf1\"><div class=\"ssrcss-8k20kk-CellWrapper ef9ipf0\" value=\"12\">12</div></td><td class=\"ssrcss-db6a34-StyledTableData ef9ipf1\"><div class=\"ssrcss-8k20kk-CellWrapper ef9ipf0\" value=\"12\">12</div></td><td class=\"ssrcss-jfz7x5-StyledTableData ef9ipf1\"><div class=\"ssrcss-150z8d-CellWrapper ef9ipf0\" value=\"6\">6</div></td><td class=\"ssrcss-db6a34-StyledTableData ef9ipf1\"><div class=\"ssrcss-150z8d-CellWrapper ef9ipf0\" value=\"6\">6</div></td><td class=\"ssrcss-jfz7x5-StyledTableData ef9ipf1\"><div class=\"ssrcss-150z8d-CellWrapper ef9ipf0\" value=\"28\">28</div></td><td class=\"ssrcss-db6a34-StyledTableData ef9ipf1\"><div class=\"ssrcss-150z8d-CellWrapper ef9ipf0\" value=\"28\">28</div></td><td class=\"ssrcss-jfz7x5-StyledTableData ef9ipf1\"><div class=\"ssrcss-150z8d-CellWrapper ef9ipf0\" value=\"0.55\">0.55</div></td><td class=\"ssrcss-1t1swew-StyledTableData ef9ipf1\"><div class=\"ssrcss-150z8d-CellWrapper ef9ipf0\" value=\"163\">163</div></td><td class=\"ssrcss-17jls80-StyledTableData ef9ipf1\"><div class=\"ssrcss-150z8d-CellWrapper ef9ipf0\" value=\"163\">163</div></td><td class=\"ssrcss-1dut4x2-StyledTableData ef9ipf1\"><div class=\"ssrcss-150z8d-CellWrapper ef9ipf0\" value=\"56\">56</div></td><td class=\"ssrcss-jfz7x5-StyledTableData ef9ipf1\"><div class=\"ssrcss-150z8d-CellWrapper ef9ipf0\" value=\"21%\">21%</div></td><td class=\"ssrcss-1dut4x2-StyledTableData ef9ipf1\"><div class=\"ssrcss-150z8d-CellWrapper ef9ipf0\" value=\"50%\">50%</div></td></tr>, <tr class=\"ssrcss-dhlz6k-TableRowBody e1icz100\"><td class=\"ssrcss-fvkmzs-StyledTableData ef9ipf1\"><div class=\"ssrcss-qg0qvg-CellWrapper ef9ipf0\" value=\"11\"><div class=\"ssrcss-wjp01q-RankAndBadgeWrapper e1n6h4mf2\"><span class=\"ssrcss-1xljqjf-Rank e1n6h4mf1\">11</span><div class=\"ssrcss-833zc8-BadgeWrapper e1n6h4mf0\"><div class=\"ssrcss-bdya4g-MobileOnlyWrapper e1v3gc7i1\"><div class=\"ssrcss-1ij97kg-BadgeContainer ezmsq4q1\" data-testid=\"badge-container-ipswich-town\" size=\"20\"><img alt=\"\" aria-hidden=\"true\" class=\"ssrcss-1knyx38-BadgeImage ezmsq4q0\" data-testid=\"badge-img-ipswich-town\" src=\"https://static.files.bbci.co.uk/core/website/assets/static/sport/football/ipswich-town.932422801d.svg\"/></div></div><div class=\"ssrcss-dngukv-DesktopOnlyWrapper e1v3gc7i0\"><div class=\"ssrcss-1b9x5pa-BadgeContainer ezmsq4q1\" data-testid=\"badge-container-ipswich-town\" size=\"24\"><img alt=\"\" aria-hidden=\"true\" class=\"ssrcss-1knyx38-BadgeImage ezmsq4q0\" data-testid=\"badge-img-ipswich-town\" src=\"https://static.files.bbci.co.uk/core/website/assets/static/sport/football/ipswich-town.932422801d.svg\"/></div></div></div></div></div></td><td class=\"ssrcss-fvkmzs-StyledTableData ef9ipf1\"><div class=\"ssrcss-qg0qvg-CellWrapper ef9ipf0\"><div data-player-id=\"urn:bbc:sportsdata:football:player:s-5jk0wq14a8emikh2vh53aw0ve\" data-team-id=\"urn:bbc:sportsdata:football:team:ipswich-town\"></div><div class=\"ssrcss-dngukv-DesktopOnlyWrapper e1v3gc7i0\"><div role=\"text\"><div class=\"ssrcss-m6ah29-PlayerName e1n8xy5b1\">L. Delap</div><div class=\"ssrcss-qvpga1-TeamsSummary e1n8xy5b0\">Ipswich</div></div></div><div class=\"ssrcss-bdya4g-MobileOnlyWrapper e1v3gc7i1\"><div role=\"text\"><div class=\"ssrcss-m6ah29-PlayerName e1n8xy5b1\">L. Delap</div><div class=\"ssrcss-qvpga1-TeamsSummary e1n8xy5b0\">Ipswich</div></div></div></div></td><td class=\"ssrcss-jfz7x5-StyledTableData ef9ipf1\"><div class=\"ssrcss-8k20kk-CellWrapper ef9ipf0\" value=\"12\">12</div></td><td class=\"ssrcss-db6a34-StyledTableData ef9ipf1\"><div class=\"ssrcss-8k20kk-CellWrapper ef9ipf0\" value=\"12\">12</div></td><td class=\"ssrcss-jfz7x5-StyledTableData ef9ipf1\"><div class=\"ssrcss-150z8d-CellWrapper ef9ipf0\" value=\"2\">2</div></td><td class=\"ssrcss-db6a34-StyledTableData ef9ipf1\"><div class=\"ssrcss-150z8d-CellWrapper ef9ipf0\" value=\"2\">2</div></td><td class=\"ssrcss-jfz7x5-StyledTableData ef9ipf1\"><div class=\"ssrcss-150z8d-CellWrapper ef9ipf0\" value=\"30\">30</div></td><td class=\"ssrcss-db6a34-StyledTableData ef9ipf1\"><div class=\"ssrcss-150z8d-CellWrapper ef9ipf0\" value=\"30\">30</div></td><td class=\"ssrcss-jfz7x5-StyledTableData ef9ipf1\"><div class=\"ssrcss-150z8d-CellWrapper ef9ipf0\" value=\"0.46\">0.46</div></td><td class=\"ssrcss-1t1swew-StyledTableData ef9ipf1\"><div class=\"ssrcss-150z8d-CellWrapper ef9ipf0\" value=\"195\">195</div></td><td class=\"ssrcss-17jls80-StyledTableData ef9ipf1\"><div class=\"ssrcss-150z8d-CellWrapper ef9ipf0\" value=\"195\">195</div></td><td class=\"ssrcss-1dut4x2-StyledTableData ef9ipf1\"><div class=\"ssrcss-150z8d-CellWrapper ef9ipf0\" value=\"60\">60</div></td><td class=\"ssrcss-jfz7x5-StyledTableData ef9ipf1\"><div class=\"ssrcss-150z8d-CellWrapper ef9ipf0\" value=\"20%\">20%</div></td><td class=\"ssrcss-1dut4x2-StyledTableData ef9ipf1\"><div class=\"ssrcss-150z8d-CellWrapper ef9ipf0\" value=\"48%\">48%</div></td></tr>, <tr class=\"ssrcss-dhlz6k-TableRowBody e1icz100\"><td class=\"ssrcss-fvkmzs-StyledTableData ef9ipf1\"><div class=\"ssrcss-qg0qvg-CellWrapper ef9ipf0\" value=\"13\"><div class=\"ssrcss-wjp01q-RankAndBadgeWrapper e1n6h4mf2\"><span class=\"ssrcss-1xljqjf-Rank e1n6h4mf1\">13</span><div class=\"ssrcss-833zc8-BadgeWrapper e1n6h4mf0\"><div class=\"ssrcss-bdya4g-MobileOnlyWrapper e1v3gc7i1\"><div class=\"ssrcss-1ij97kg-BadgeContainer ezmsq4q1\" data-testid=\"badge-container-wolverhampton-wanderers\" size=\"20\"><img alt=\"\" aria-hidden=\"true\" class=\"ssrcss-1knyx38-BadgeImage ezmsq4q0\" data-testid=\"badge-img-wolverhampton-wanderers\" src=\"https://static.files.bbci.co.uk/core/website/assets/static/sport/football/wolverhampton-wanderers.11a9da51bf.svg\"/></div></div><div class=\"ssrcss-dngukv-DesktopOnlyWrapper e1v3gc7i0\"><div class=\"ssrcss-1b9x5pa-BadgeContainer ezmsq4q1\" data-testid=\"badge-container-wolverhampton-wanderers\" size=\"24\"><img alt=\"\" aria-hidden=\"true\" class=\"ssrcss-1knyx38-BadgeImage ezmsq4q0\" data-testid=\"badge-img-wolverhampton-wanderers\" src=\"https://static.files.bbci.co.uk/core/website/assets/static/sport/football/wolverhampton-wanderers.11a9da51bf.svg\"/></div></div></div></div></div></td><td class=\"ssrcss-fvkmzs-StyledTableData ef9ipf1\"><div class=\"ssrcss-qg0qvg-CellWrapper ef9ipf0\"><div data-player-id=\"urn:bbc:sportsdata:football:player:s-2ge9oa66xgsefhhpvuboua76x\" data-team-id=\"urn:bbc:sportsdata:football:team:wolverhampton-wanderers\"></div><div class=\"ssrcss-dngukv-DesktopOnlyWrapper e1v3gc7i0\"><div role=\"text\"><div class=\"ssrcss-m6ah29-PlayerName e1n8xy5b1\">J. Strand Larsen</div><div class=\"ssrcss-qvpga1-TeamsSummary e1n8xy5b0\">Wolves</div></div></div><div class=\"ssrcss-bdya4g-MobileOnlyWrapper e1v3gc7i1\"><div role=\"text\"><div class=\"ssrcss-m6ah29-PlayerName e1n8xy5b1\">J. Strand Larsen</div><div class=\"ssrcss-qvpga1-TeamsSummary e1n8xy5b0\">Wolves</div></div></div></div></td><td class=\"ssrcss-jfz7x5-StyledTableData ef9ipf1\"><div class=\"ssrcss-8k20kk-CellWrapper ef9ipf0\" value=\"11\">11</div></td><td class=\"ssrcss-db6a34-StyledTableData ef9ipf1\"><div class=\"ssrcss-8k20kk-CellWrapper ef9ipf0\" value=\"11\">11</div></td><td class=\"ssrcss-jfz7x5-StyledTableData ef9ipf1\"><div class=\"ssrcss-150z8d-CellWrapper ef9ipf0\" value=\"2\">2</div></td><td class=\"ssrcss-db6a34-StyledTableData ef9ipf1\"><div class=\"ssrcss-150z8d-CellWrapper ef9ipf0\" value=\"2\">2</div></td><td class=\"ssrcss-jfz7x5-StyledTableData ef9ipf1\"><div class=\"ssrcss-150z8d-CellWrapper ef9ipf0\" value=\"29\">29</div></td><td class=\"ssrcss-db6a34-StyledTableData ef9ipf1\"><div class=\"ssrcss-150z8d-CellWrapper ef9ipf0\" value=\"29\">29</div></td><td class=\"ssrcss-jfz7x5-StyledTableData ef9ipf1\"><div class=\"ssrcss-150z8d-CellWrapper ef9ipf0\" value=\"0.44\">0.44</div></td><td class=\"ssrcss-1t1swew-StyledTableData ef9ipf1\"><div class=\"ssrcss-150z8d-CellWrapper ef9ipf0\" value=\"205\">205</div></td><td class=\"ssrcss-17jls80-StyledTableData ef9ipf1\"><div class=\"ssrcss-150z8d-CellWrapper ef9ipf0\" value=\"205\">205</div></td><td class=\"ssrcss-1dut4x2-StyledTableData ef9ipf1\"><div class=\"ssrcss-150z8d-CellWrapper ef9ipf0\" value=\"44\">44</div></td><td class=\"ssrcss-jfz7x5-StyledTableData ef9ipf1\"><div class=\"ssrcss-150z8d-CellWrapper ef9ipf0\" value=\"25%\">25%</div></td><td class=\"ssrcss-1dut4x2-StyledTableData ef9ipf1\"><div class=\"ssrcss-150z8d-CellWrapper ef9ipf0\" value=\"68%\">68%</div></td></tr>, <tr class=\"ssrcss-dhlz6k-TableRowBody e1icz100\"><td class=\"ssrcss-fvkmzs-StyledTableData ef9ipf1\"><div class=\"ssrcss-qg0qvg-CellWrapper ef9ipf0\" value=\"14\"><div class=\"ssrcss-wjp01q-RankAndBadgeWrapper e1n6h4mf2\"><span class=\"ssrcss-1xljqjf-Rank e1n6h4mf1\">14</span><div class=\"ssrcss-833zc8-BadgeWrapper e1n6h4mf0\"><div class=\"ssrcss-bdya4g-MobileOnlyWrapper e1v3gc7i1\"><div class=\"ssrcss-1ij97kg-BadgeContainer ezmsq4q1\" data-testid=\"badge-container-fulham\" size=\"20\"><img alt=\"\" aria-hidden=\"true\" class=\"ssrcss-1knyx38-BadgeImage ezmsq4q0\" data-testid=\"badge-img-fulham\" src=\"https://static.files.bbci.co.uk/core/website/assets/static/sport/football/fulham.32e357c80f.svg\"/></div></div><div class=\"ssrcss-dngukv-DesktopOnlyWrapper e1v3gc7i0\"><div class=\"ssrcss-1b9x5pa-BadgeContainer ezmsq4q1\" data-testid=\"badge-container-fulham\" size=\"24\"><img alt=\"\" aria-hidden=\"true\" class=\"ssrcss-1knyx38-BadgeImage ezmsq4q0\" data-testid=\"badge-img-fulham\" src=\"https://static.files.bbci.co.uk/core/website/assets/static/sport/football/fulham.32e357c80f.svg\"/></div></div></div></div></div></td><td class=\"ssrcss-fvkmzs-StyledTableData ef9ipf1\"><div class=\"ssrcss-qg0qvg-CellWrapper ef9ipf0\"><div data-player-id=\"urn:bbc:sportsdata:football:player:s-5wa8lzp50ccfhxg3j4f65gt79\" data-team-id=\"urn:bbc:sportsdata:football:team:fulham\"></div><div class=\"ssrcss-dngukv-DesktopOnlyWrapper e1v3gc7i0\"><div role=\"text\"><div class=\"ssrcss-m6ah29-PlayerName e1n8xy5b1\">R. Jiménez</div><div class=\"ssrcss-qvpga1-TeamsSummary e1n8xy5b0\">Fulham</div></div></div><div class=\"ssrcss-bdya4g-MobileOnlyWrapper e1v3gc7i1\"><div role=\"text\"><div class=\"ssrcss-m6ah29-PlayerName e1n8xy5b1\">R. Jiménez</div><div class=\"ssrcss-qvpga1-TeamsSummary e1n8xy5b0\">Fulham</div></div></div></div></td><td class=\"ssrcss-jfz7x5-StyledTableData ef9ipf1\"><div class=\"ssrcss-8k20kk-CellWrapper ef9ipf0\" value=\"10\">10</div></td><td class=\"ssrcss-db6a34-StyledTableData ef9ipf1\"><div class=\"ssrcss-8k20kk-CellWrapper ef9ipf0\" value=\"10\">10</div></td><td class=\"ssrcss-jfz7x5-StyledTableData ef9ipf1\"><div class=\"ssrcss-150z8d-CellWrapper ef9ipf0\" value=\"3\">3</div></td><td class=\"ssrcss-db6a34-StyledTableData ef9ipf1\"><div class=\"ssrcss-150z8d-CellWrapper ef9ipf0\" value=\"3\">3</div></td><td class=\"ssrcss-jfz7x5-StyledTableData ef9ipf1\"><div class=\"ssrcss-150z8d-CellWrapper ef9ipf0\" value=\"30\">30</div></td><td class=\"ssrcss-db6a34-StyledTableData ef9ipf1\"><div class=\"ssrcss-150z8d-CellWrapper ef9ipf0\" value=\"30\">30</div></td><td class=\"ssrcss-jfz7x5-StyledTableData ef9ipf1\"><div class=\"ssrcss-150z8d-CellWrapper ef9ipf0\" value=\"0.47\">0.47</div></td><td class=\"ssrcss-1t1swew-StyledTableData ef9ipf1\"><div class=\"ssrcss-150z8d-CellWrapper ef9ipf0\" value=\"192\">192</div></td><td class=\"ssrcss-17jls80-StyledTableData ef9ipf1\"><div class=\"ssrcss-150z8d-CellWrapper ef9ipf0\" value=\"192\">192</div></td><td class=\"ssrcss-1dut4x2-StyledTableData ef9ipf1\"><div class=\"ssrcss-150z8d-CellWrapper ef9ipf0\" value=\"79\">79</div></td><td class=\"ssrcss-jfz7x5-StyledTableData ef9ipf1\"><div class=\"ssrcss-150z8d-CellWrapper ef9ipf0\" value=\"13%\">13%</div></td><td class=\"ssrcss-1dut4x2-StyledTableData ef9ipf1\"><div class=\"ssrcss-150z8d-CellWrapper ef9ipf0\" value=\"37%\">37%</div></td></tr>, <tr class=\"ssrcss-dhlz6k-TableRowBody e1icz100\"><td class=\"ssrcss-fvkmzs-StyledTableData ef9ipf1\"><div class=\"ssrcss-qg0qvg-CellWrapper ef9ipf0\" value=\"15\"><div class=\"ssrcss-wjp01q-RankAndBadgeWrapper e1n6h4mf2\"><span class=\"ssrcss-1xljqjf-Rank e1n6h4mf1\">15</span><div class=\"ssrcss-833zc8-BadgeWrapper e1n6h4mf0\"><div class=\"ssrcss-bdya4g-MobileOnlyWrapper e1v3gc7i1\"><div class=\"ssrcss-1ij97kg-BadgeContainer ezmsq4q1\" data-testid=\"badge-container-tottenham-hotspur\" size=\"20\"><img alt=\"\" aria-hidden=\"true\" class=\"ssrcss-1knyx38-BadgeImage ezmsq4q0\" data-testid=\"badge-img-tottenham-hotspur\" src=\"https://static.files.bbci.co.uk/core/website/assets/static/sport/football/tottenham-hotspur.0bfa51c9f1.svg\"/></div></div><div class=\"ssrcss-dngukv-DesktopOnlyWrapper e1v3gc7i0\"><div class=\"ssrcss-1b9x5pa-BadgeContainer ezmsq4q1\" data-testid=\"badge-container-tottenham-hotspur\" size=\"24\"><img alt=\"\" aria-hidden=\"true\" class=\"ssrcss-1knyx38-BadgeImage ezmsq4q0\" data-testid=\"badge-img-tottenham-hotspur\" src=\"https://static.files.bbci.co.uk/core/website/assets/static/sport/football/tottenham-hotspur.0bfa51c9f1.svg\"/></div></div></div></div></div></td><td class=\"ssrcss-fvkmzs-StyledTableData ef9ipf1\"><div class=\"ssrcss-qg0qvg-CellWrapper ef9ipf0\"><div data-player-id=\"urn:bbc:sportsdata:football:player:s-a1yoz8f4985o166nzcyigpj2t\" data-team-id=\"urn:bbc:sportsdata:football:team:tottenham-hotspur\"></div><div class=\"ssrcss-dngukv-DesktopOnlyWrapper e1v3gc7i0\"><div role=\"text\"><div class=\"ssrcss-m6ah29-PlayerName e1n8xy5b1\">J. Maddison</div><div class=\"ssrcss-qvpga1-TeamsSummary e1n8xy5b0\">Tottenham</div></div></div><div class=\"ssrcss-bdya4g-MobileOnlyWrapper e1v3gc7i1\"><div role=\"text\"><div class=\"ssrcss-m6ah29-PlayerName e1n8xy5b1\">J. Maddison</div><div class=\"ssrcss-qvpga1-TeamsSummary e1n8xy5b0\">Tottenham</div></div></div></div></td><td class=\"ssrcss-jfz7x5-StyledTableData ef9ipf1\"><div class=\"ssrcss-8k20kk-CellWrapper ef9ipf0\" value=\"9\">9</div></td><td class=\"ssrcss-db6a34-StyledTableData ef9ipf1\"><div class=\"ssrcss-8k20kk-CellWrapper ef9ipf0\" value=\"9\">9</div></td><td class=\"ssrcss-jfz7x5-StyledTableData ef9ipf1\"><div class=\"ssrcss-150z8d-CellWrapper ef9ipf0\" value=\"5\">5</div></td><td class=\"ssrcss-db6a34-StyledTableData ef9ipf1\"><div class=\"ssrcss-150z8d-CellWrapper ef9ipf0\" value=\"5\">5</div></td><td class=\"ssrcss-jfz7x5-StyledTableData ef9ipf1\"><div class=\"ssrcss-150z8d-CellWrapper ef9ipf0\" value=\"28\">28</div></td><td class=\"ssrcss-db6a34-StyledTableData ef9ipf1\"><div class=\"ssrcss-150z8d-CellWrapper ef9ipf0\" value=\"28\">28</div></td><td class=\"ssrcss-jfz7x5-StyledTableData ef9ipf1\"><div class=\"ssrcss-150z8d-CellWrapper ef9ipf0\" value=\"0.5\">0.5</div></td><td class=\"ssrcss-1t1swew-StyledTableData ef9ipf1\"><div class=\"ssrcss-150z8d-CellWrapper ef9ipf0\" value=\"180\">180</div></td><td class=\"ssrcss-17jls80-StyledTableData ef9ipf1\"><div class=\"ssrcss-150z8d-CellWrapper ef9ipf0\" value=\"180\">180</div></td><td class=\"ssrcss-1dut4x2-StyledTableData ef9ipf1\"><div class=\"ssrcss-150z8d-CellWrapper ef9ipf0\" value=\"38\">38</div></td><td class=\"ssrcss-jfz7x5-StyledTableData ef9ipf1\"><div class=\"ssrcss-150z8d-CellWrapper ef9ipf0\" value=\"24%\">24%</div></td><td class=\"ssrcss-1dut4x2-StyledTableData ef9ipf1\"><div class=\"ssrcss-150z8d-CellWrapper ef9ipf0\" value=\"45%\">45%</div></td></tr>, <tr class=\"ssrcss-dhlz6k-TableRowBody e1icz100\"><td class=\"ssrcss-fvkmzs-StyledTableData ef9ipf1\"><div class=\"ssrcss-qg0qvg-CellWrapper ef9ipf0\" value=\"15\"><div class=\"ssrcss-wjp01q-RankAndBadgeWrapper e1n6h4mf2\"><span class=\"ssrcss-1xljqjf-Rank e1n6h4mf1\">15</span><div class=\"ssrcss-833zc8-BadgeWrapper e1n6h4mf0\"><div class=\"ssrcss-bdya4g-MobileOnlyWrapper e1v3gc7i1\"><div class=\"ssrcss-1ij97kg-BadgeContainer ezmsq4q1\" data-testid=\"badge-container-chelsea\" size=\"20\"><img alt=\"\" aria-hidden=\"true\" class=\"ssrcss-1knyx38-BadgeImage ezmsq4q0\" data-testid=\"badge-img-chelsea\" src=\"https://static.files.bbci.co.uk/core/website/assets/static/sport/football/chelsea.065d90cfec.svg\"/></div></div><div class=\"ssrcss-dngukv-DesktopOnlyWrapper e1v3gc7i0\"><div class=\"ssrcss-1b9x5pa-BadgeContainer ezmsq4q1\" data-testid=\"badge-container-chelsea\" size=\"24\"><img alt=\"\" aria-hidden=\"true\" class=\"ssrcss-1knyx38-BadgeImage ezmsq4q0\" data-testid=\"badge-img-chelsea\" src=\"https://static.files.bbci.co.uk/core/website/assets/static/sport/football/chelsea.065d90cfec.svg\"/></div></div></div></div></div></td><td class=\"ssrcss-fvkmzs-StyledTableData ef9ipf1\"><div class=\"ssrcss-qg0qvg-CellWrapper ef9ipf0\"><div data-player-id=\"urn:bbc:sportsdata:football:player:s-amcwh6w0brmkttg4uc5qm6z9w\" data-team-id=\"urn:bbc:sportsdata:football:team:chelsea\"></div><div class=\"ssrcss-dngukv-DesktopOnlyWrapper e1v3gc7i0\"><div role=\"text\"><div class=\"ssrcss-m6ah29-PlayerName e1n8xy5b1\">N. Jackson</div><div class=\"ssrcss-qvpga1-TeamsSummary e1n8xy5b0\">Chelsea</div></div></div><div class=\"ssrcss-bdya4g-MobileOnlyWrapper e1v3gc7i1\"><div role=\"text\"><div class=\"ssrcss-m6ah29-PlayerName e1n8xy5b1\">N. Jackson</div><div class=\"ssrcss-qvpga1-TeamsSummary e1n8xy5b0\">Chelsea</div></div></div></div></td><td class=\"ssrcss-jfz7x5-StyledTableData ef9ipf1\"><div class=\"ssrcss-8k20kk-CellWrapper ef9ipf0\" value=\"9\">9</div></td><td class=\"ssrcss-db6a34-StyledTableData ef9ipf1\"><div class=\"ssrcss-8k20kk-CellWrapper ef9ipf0\" value=\"9\">9</div></td><td class=\"ssrcss-jfz7x5-StyledTableData ef9ipf1\"><div class=\"ssrcss-150z8d-CellWrapper ef9ipf0\" value=\"5\">5</div></td><td class=\"ssrcss-db6a34-StyledTableData ef9ipf1\"><div class=\"ssrcss-150z8d-CellWrapper ef9ipf0\" value=\"5\">5</div></td><td class=\"ssrcss-jfz7x5-StyledTableData ef9ipf1\"><div class=\"ssrcss-150z8d-CellWrapper ef9ipf0\" value=\"24\">24</div></td><td class=\"ssrcss-db6a34-StyledTableData ef9ipf1\"><div class=\"ssrcss-150z8d-CellWrapper ef9ipf0\" value=\"24\">24</div></td><td class=\"ssrcss-jfz7x5-StyledTableData ef9ipf1\"><div class=\"ssrcss-150z8d-CellWrapper ef9ipf0\" value=\"0.44\">0.44</div></td><td class=\"ssrcss-1t1swew-StyledTableData ef9ipf1\"><div class=\"ssrcss-150z8d-CellWrapper ef9ipf0\" value=\"203\">203</div></td><td class=\"ssrcss-17jls80-StyledTableData ef9ipf1\"><div class=\"ssrcss-150z8d-CellWrapper ef9ipf0\" value=\"203\">203</div></td><td class=\"ssrcss-1dut4x2-StyledTableData ef9ipf1\"><div class=\"ssrcss-150z8d-CellWrapper ef9ipf0\" value=\"65\">65</div></td><td class=\"ssrcss-jfz7x5-StyledTableData ef9ipf1\"><div class=\"ssrcss-150z8d-CellWrapper ef9ipf0\" value=\"14%\">14%</div></td><td class=\"ssrcss-1dut4x2-StyledTableData ef9ipf1\"><div class=\"ssrcss-150z8d-CellWrapper ef9ipf0\" value=\"49%\">49%</div></td></tr>, <tr class=\"ssrcss-dhlz6k-TableRowBody e1icz100\"><td class=\"ssrcss-fvkmzs-StyledTableData ef9ipf1\"><div class=\"ssrcss-qg0qvg-CellWrapper ef9ipf0\" value=\"15\"><div class=\"ssrcss-wjp01q-RankAndBadgeWrapper e1n6h4mf2\"><span class=\"ssrcss-1xljqjf-Rank e1n6h4mf1\">15</span><div class=\"ssrcss-833zc8-BadgeWrapper e1n6h4mf0\"><div class=\"ssrcss-bdya4g-MobileOnlyWrapper e1v3gc7i1\"><div class=\"ssrcss-1ij97kg-BadgeContainer ezmsq4q1\" data-testid=\"badge-container-liverpool\" size=\"20\"><img alt=\"\" aria-hidden=\"true\" class=\"ssrcss-1knyx38-BadgeImage ezmsq4q0\" data-testid=\"badge-img-liverpool\" src=\"https://static.files.bbci.co.uk/core/website/assets/static/sport/football/liverpool.0d2ced3f9a.svg\"/></div></div><div class=\"ssrcss-dngukv-DesktopOnlyWrapper e1v3gc7i0\"><div class=\"ssrcss-1b9x5pa-BadgeContainer ezmsq4q1\" data-testid=\"badge-container-liverpool\" size=\"24\"><img alt=\"\" aria-hidden=\"true\" class=\"ssrcss-1knyx38-BadgeImage ezmsq4q0\" data-testid=\"badge-img-liverpool\" src=\"https://static.files.bbci.co.uk/core/website/assets/static/sport/football/liverpool.0d2ced3f9a.svg\"/></div></div></div></div></div></td><td class=\"ssrcss-fvkmzs-StyledTableData ef9ipf1\"><div class=\"ssrcss-qg0qvg-CellWrapper ef9ipf0\"><div data-player-id=\"urn:bbc:sportsdata:football:player:s-5ch0r2awkzjfd4hv6kbw6c9gp\" data-team-id=\"urn:bbc:sportsdata:football:team:liverpool\"></div><div class=\"ssrcss-dngukv-DesktopOnlyWrapper e1v3gc7i0\"><div role=\"text\"><div class=\"ssrcss-m6ah29-PlayerName e1n8xy5b1\">L. Díaz</div><div class=\"ssrcss-qvpga1-TeamsSummary e1n8xy5b0\">Liverpool</div></div></div><div class=\"ssrcss-bdya4g-MobileOnlyWrapper e1v3gc7i1\"><div role=\"text\"><div class=\"ssrcss-m6ah29-PlayerName e1n8xy5b1\">L. Díaz</div><div class=\"ssrcss-qvpga1-TeamsSummary e1n8xy5b0\">Liverpool</div></div></div></div></td><td class=\"ssrcss-jfz7x5-StyledTableData ef9ipf1\"><div class=\"ssrcss-8k20kk-CellWrapper ef9ipf0\" value=\"9\">9</div></td><td class=\"ssrcss-db6a34-StyledTableData ef9ipf1\"><div class=\"ssrcss-8k20kk-CellWrapper ef9ipf0\" value=\"9\">9</div></td><td class=\"ssrcss-jfz7x5-StyledTableData ef9ipf1\"><div class=\"ssrcss-150z8d-CellWrapper ef9ipf0\" value=\"5\">5</div></td><td class=\"ssrcss-db6a34-StyledTableData ef9ipf1\"><div class=\"ssrcss-150z8d-CellWrapper ef9ipf0\" value=\"5\">5</div></td><td class=\"ssrcss-jfz7x5-StyledTableData ef9ipf1\"><div class=\"ssrcss-150z8d-CellWrapper ef9ipf0\" value=\"29\">29</div></td><td class=\"ssrcss-db6a34-StyledTableData ef9ipf1\"><div class=\"ssrcss-150z8d-CellWrapper ef9ipf0\" value=\"29\">29</div></td><td class=\"ssrcss-jfz7x5-StyledTableData ef9ipf1\"><div class=\"ssrcss-150z8d-CellWrapper ef9ipf0\" value=\"0.42\">0.42</div></td><td class=\"ssrcss-1t1swew-StyledTableData ef9ipf1\"><div class=\"ssrcss-150z8d-CellWrapper ef9ipf0\" value=\"216\">216</div></td><td class=\"ssrcss-17jls80-StyledTableData ef9ipf1\"><div class=\"ssrcss-150z8d-CellWrapper ef9ipf0\" value=\"216\">216</div></td><td class=\"ssrcss-1dut4x2-StyledTableData ef9ipf1\"><div class=\"ssrcss-150z8d-CellWrapper ef9ipf0\" value=\"57\">57</div></td><td class=\"ssrcss-jfz7x5-StyledTableData ef9ipf1\"><div class=\"ssrcss-150z8d-CellWrapper ef9ipf0\" value=\"16%\">16%</div></td><td class=\"ssrcss-1dut4x2-StyledTableData ef9ipf1\"><div class=\"ssrcss-150z8d-CellWrapper ef9ipf0\" value=\"40%\">40%</div></td></tr>, <tr class=\"ssrcss-dhlz6k-TableRowBody e1icz100\"><td class=\"ssrcss-fvkmzs-StyledTableData ef9ipf1\"><div class=\"ssrcss-qg0qvg-CellWrapper ef9ipf0\" value=\"15\"><div class=\"ssrcss-wjp01q-RankAndBadgeWrapper e1n6h4mf2\"><span class=\"ssrcss-1xljqjf-Rank e1n6h4mf1\">15</span><div class=\"ssrcss-833zc8-BadgeWrapper e1n6h4mf0\"><div class=\"ssrcss-bdya4g-MobileOnlyWrapper e1v3gc7i1\"><div class=\"ssrcss-1ij97kg-BadgeContainer ezmsq4q1\" data-testid=\"badge-container-arsenal\" size=\"20\"><img alt=\"\" aria-hidden=\"true\" class=\"ssrcss-1knyx38-BadgeImage ezmsq4q0\" data-testid=\"badge-img-arsenal\" src=\"https://static.files.bbci.co.uk/core/website/assets/static/sport/football/arsenal.b8d11b6a40.svg\"/></div></div><div class=\"ssrcss-dngukv-DesktopOnlyWrapper e1v3gc7i0\"><div class=\"ssrcss-1b9x5pa-BadgeContainer ezmsq4q1\" data-testid=\"badge-container-arsenal\" size=\"24\"><img alt=\"\" aria-hidden=\"true\" class=\"ssrcss-1knyx38-BadgeImage ezmsq4q0\" data-testid=\"badge-img-arsenal\" src=\"https://static.files.bbci.co.uk/core/website/assets/static/sport/football/arsenal.b8d11b6a40.svg\"/></div></div></div></div></div></td><td class=\"ssrcss-fvkmzs-StyledTableData ef9ipf1\"><div class=\"ssrcss-qg0qvg-CellWrapper ef9ipf0\"><div data-player-id=\"urn:bbc:sportsdata:football:player:s-ed20ebhqi5c32vbbsze8r6yuh\" data-team-id=\"urn:bbc:sportsdata:football:team:arsenal\"></div><div class=\"ssrcss-dngukv-DesktopOnlyWrapper e1v3gc7i0\"><div role=\"text\"><div class=\"ssrcss-m6ah29-PlayerName e1n8xy5b1\">K. Havertz</div><div class=\"ssrcss-qvpga1-TeamsSummary e1n8xy5b0\">Arsenal</div></div></div><div class=\"ssrcss-bdya4g-MobileOnlyWrapper e1v3gc7i1\"><div role=\"text\"><div class=\"ssrcss-m6ah29-PlayerName e1n8xy5b1\">K. Havertz</div><div class=\"ssrcss-qvpga1-TeamsSummary e1n8xy5b0\">Arsenal</div></div></div></div></td><td class=\"ssrcss-jfz7x5-StyledTableData ef9ipf1\"><div class=\"ssrcss-8k20kk-CellWrapper ef9ipf0\" value=\"9\">9</div></td><td class=\"ssrcss-db6a34-StyledTableData ef9ipf1\"><div class=\"ssrcss-8k20kk-CellWrapper ef9ipf0\" value=\"9\">9</div></td><td class=\"ssrcss-jfz7x5-StyledTableData ef9ipf1\"><div class=\"ssrcss-150z8d-CellWrapper ef9ipf0\" value=\"3\">3</div></td><td class=\"ssrcss-db6a34-StyledTableData ef9ipf1\"><div class=\"ssrcss-150z8d-CellWrapper ef9ipf0\" value=\"3\">3</div></td><td class=\"ssrcss-jfz7x5-StyledTableData ef9ipf1\"><div class=\"ssrcss-150z8d-CellWrapper ef9ipf0\" value=\"21\">21</div></td><td class=\"ssrcss-db6a34-StyledTableData ef9ipf1\"><div class=\"ssrcss-150z8d-CellWrapper ef9ipf0\" value=\"21\">21</div></td><td class=\"ssrcss-jfz7x5-StyledTableData ef9ipf1\"><div class=\"ssrcss-150z8d-CellWrapper ef9ipf0\" value=\"0.44\">0.44</div></td><td class=\"ssrcss-1t1swew-StyledTableData ef9ipf1\"><div class=\"ssrcss-150z8d-CellWrapper ef9ipf0\" value=\"205\">205</div></td><td class=\"ssrcss-17jls80-StyledTableData ef9ipf1\"><div class=\"ssrcss-150z8d-CellWrapper ef9ipf0\" value=\"205\">205</div></td><td class=\"ssrcss-1dut4x2-StyledTableData ef9ipf1\"><div class=\"ssrcss-150z8d-CellWrapper ef9ipf0\" value=\"52\">52</div></td><td class=\"ssrcss-jfz7x5-StyledTableData ef9ipf1\"><div class=\"ssrcss-150z8d-CellWrapper ef9ipf0\" value=\"17%\">17%</div></td><td class=\"ssrcss-1dut4x2-StyledTableData ef9ipf1\"><div class=\"ssrcss-150z8d-CellWrapper ef9ipf0\" value=\"40%\">40%</div></td></tr>, <tr class=\"ssrcss-dhlz6k-TableRowBody e1icz100\"><td class=\"ssrcss-fvkmzs-StyledTableData ef9ipf1\"><div class=\"ssrcss-qg0qvg-CellWrapper ef9ipf0\" value=\"15\"><div class=\"ssrcss-wjp01q-RankAndBadgeWrapper e1n6h4mf2\"><span class=\"ssrcss-1xljqjf-Rank e1n6h4mf1\">15</span><div class=\"ssrcss-833zc8-BadgeWrapper e1n6h4mf0\"><div class=\"ssrcss-bdya4g-MobileOnlyWrapper e1v3gc7i1\"><div class=\"ssrcss-1ij97kg-BadgeContainer ezmsq4q1\" data-testid=\"badge-container-tottenham-hotspur\" size=\"20\"><img alt=\"\" aria-hidden=\"true\" class=\"ssrcss-1knyx38-BadgeImage ezmsq4q0\" data-testid=\"badge-img-tottenham-hotspur\" src=\"https://static.files.bbci.co.uk/core/website/assets/static/sport/football/tottenham-hotspur.0bfa51c9f1.svg\"/></div></div><div class=\"ssrcss-dngukv-DesktopOnlyWrapper e1v3gc7i0\"><div class=\"ssrcss-1b9x5pa-BadgeContainer ezmsq4q1\" data-testid=\"badge-container-tottenham-hotspur\" size=\"24\"><img alt=\"\" aria-hidden=\"true\" class=\"ssrcss-1knyx38-BadgeImage ezmsq4q0\" data-testid=\"badge-img-tottenham-hotspur\" src=\"https://static.files.bbci.co.uk/core/website/assets/static/sport/football/tottenham-hotspur.0bfa51c9f1.svg\"/></div></div></div></div></div></td><td class=\"ssrcss-fvkmzs-StyledTableData ef9ipf1\"><div class=\"ssrcss-qg0qvg-CellWrapper ef9ipf0\"><div data-player-id=\"urn:bbc:sportsdata:football:player:s-1l228p52d8wdf8qhfxqu8rca\" data-team-id=\"urn:bbc:sportsdata:football:team:tottenham-hotspur\"></div><div class=\"ssrcss-dngukv-DesktopOnlyWrapper e1v3gc7i0\"><div role=\"text\"><div class=\"ssrcss-m6ah29-PlayerName e1n8xy5b1\">B. Johnson</div><div class=\"ssrcss-qvpga1-TeamsSummary e1n8xy5b0\">Tottenham</div></div></div><div class=\"ssrcss-bdya4g-MobileOnlyWrapper e1v3gc7i1\"><div role=\"text\"><div class=\"ssrcss-m6ah29-PlayerName e1n8xy5b1\">B. Johnson</div><div class=\"ssrcss-qvpga1-TeamsSummary e1n8xy5b0\">Tottenham</div></div></div></div></td><td class=\"ssrcss-jfz7x5-StyledTableData ef9ipf1\"><div class=\"ssrcss-8k20kk-CellWrapper ef9ipf0\" value=\"9\">9</div></td><td class=\"ssrcss-db6a34-StyledTableData ef9ipf1\"><div class=\"ssrcss-8k20kk-CellWrapper ef9ipf0\" value=\"9\">9</div></td><td class=\"ssrcss-jfz7x5-StyledTableData ef9ipf1\"><div class=\"ssrcss-150z8d-CellWrapper ef9ipf0\" value=\"2\">2</div></td><td class=\"ssrcss-db6a34-StyledTableData ef9ipf1\"><div class=\"ssrcss-150z8d-CellWrapper ef9ipf0\" value=\"2\">2</div></td><td class=\"ssrcss-jfz7x5-StyledTableData ef9ipf1\"><div class=\"ssrcss-150z8d-CellWrapper ef9ipf0\" value=\"27\">27</div></td><td class=\"ssrcss-db6a34-StyledTableData ef9ipf1\"><div class=\"ssrcss-150z8d-CellWrapper ef9ipf0\" value=\"27\">27</div></td><td class=\"ssrcss-jfz7x5-StyledTableData ef9ipf1\"><div class=\"ssrcss-150z8d-CellWrapper ef9ipf0\" value=\"0.45\">0.45</div></td><td class=\"ssrcss-1t1swew-StyledTableData ef9ipf1\"><div class=\"ssrcss-150z8d-CellWrapper ef9ipf0\" value=\"199\">199</div></td><td class=\"ssrcss-17jls80-StyledTableData ef9ipf1\"><div class=\"ssrcss-150z8d-CellWrapper ef9ipf0\" value=\"199\">199</div></td><td class=\"ssrcss-1dut4x2-StyledTableData ef9ipf1\"><div class=\"ssrcss-150z8d-CellWrapper ef9ipf0\" value=\"49\">49</div></td><td class=\"ssrcss-jfz7x5-StyledTableData ef9ipf1\"><div class=\"ssrcss-150z8d-CellWrapper ef9ipf0\" value=\"18%\">18%</div></td><td class=\"ssrcss-1dut4x2-StyledTableData ef9ipf1\"><div class=\"ssrcss-150z8d-CellWrapper ef9ipf0\" value=\"37%\">37%</div></td></tr>, <tr class=\"ssrcss-dhlz6k-TableRowBody e1icz100\"><td class=\"ssrcss-fvkmzs-StyledTableData ef9ipf1\"><div class=\"ssrcss-qg0qvg-CellWrapper ef9ipf0\" value=\"15\"><div class=\"ssrcss-wjp01q-RankAndBadgeWrapper e1n6h4mf2\"><span class=\"ssrcss-1xljqjf-Rank e1n6h4mf1\">15</span><div class=\"ssrcss-833zc8-BadgeWrapper e1n6h4mf0\"><div class=\"ssrcss-bdya4g-MobileOnlyWrapper e1v3gc7i1\"><div class=\"ssrcss-1ij97kg-BadgeContainer ezmsq4q1\" data-testid=\"badge-container-afc-bournemouth\" size=\"20\"><img alt=\"\" aria-hidden=\"true\" class=\"ssrcss-1knyx38-BadgeImage ezmsq4q0\" data-testid=\"badge-img-afc-bournemouth\" src=\"https://static.files.bbci.co.uk/core/website/assets/static/sport/football/afc-bournemouth.06b040f58c.svg\"/></div></div><div class=\"ssrcss-dngukv-DesktopOnlyWrapper e1v3gc7i0\"><div class=\"ssrcss-1b9x5pa-BadgeContainer ezmsq4q1\" data-testid=\"badge-container-afc-bournemouth\" size=\"24\"><img alt=\"\" aria-hidden=\"true\" class=\"ssrcss-1knyx38-BadgeImage ezmsq4q0\" data-testid=\"badge-img-afc-bournemouth\" src=\"https://static.files.bbci.co.uk/core/website/assets/static/sport/football/afc-bournemouth.06b040f58c.svg\"/></div></div></div></div></div></td><td class=\"ssrcss-fvkmzs-StyledTableData ef9ipf1\"><div class=\"ssrcss-qg0qvg-CellWrapper ef9ipf0\"><div data-player-id=\"urn:bbc:sportsdata:football:player:s-2wl0uylmkzi2ls7v4amgaa1yi\" data-team-id=\"urn:bbc:sportsdata:football:team:afc-bournemouth\"></div><div class=\"ssrcss-dngukv-DesktopOnlyWrapper e1v3gc7i0\"><div role=\"text\"><div class=\"ssrcss-m6ah29-PlayerName e1n8xy5b1\">Evanilson</div><div class=\"ssrcss-qvpga1-TeamsSummary e1n8xy5b0\">Bournemouth</div></div></div><div class=\"ssrcss-bdya4g-MobileOnlyWrapper e1v3gc7i1\"><div role=\"text\"><div class=\"ssrcss-m6ah29-PlayerName e1n8xy5b1\">Evanilson</div><div class=\"ssrcss-qvpga1-TeamsSummary e1n8xy5b0\">Bournemouth</div></div></div></div></td><td class=\"ssrcss-jfz7x5-StyledTableData ef9ipf1\"><div class=\"ssrcss-8k20kk-CellWrapper ef9ipf0\" value=\"9\">9</div></td><td class=\"ssrcss-db6a34-StyledTableData ef9ipf1\"><div class=\"ssrcss-8k20kk-CellWrapper ef9ipf0\" value=\"9\">9</div></td><td class=\"ssrcss-jfz7x5-StyledTableData ef9ipf1\"><div class=\"ssrcss-150z8d-CellWrapper ef9ipf0\" value=\"0\">0</div></td><td class=\"ssrcss-db6a34-StyledTableData ef9ipf1\"><div class=\"ssrcss-150z8d-CellWrapper ef9ipf0\" value=\"0\">0</div></td><td class=\"ssrcss-jfz7x5-StyledTableData ef9ipf1\"><div class=\"ssrcss-150z8d-CellWrapper ef9ipf0\" value=\"24\">24</div></td><td class=\"ssrcss-db6a34-StyledTableData ef9ipf1\"><div class=\"ssrcss-150z8d-CellWrapper ef9ipf0\" value=\"24\">24</div></td><td class=\"ssrcss-jfz7x5-StyledTableData ef9ipf1\"><div class=\"ssrcss-150z8d-CellWrapper ef9ipf0\" value=\"0.47\">0.47</div></td><td class=\"ssrcss-1t1swew-StyledTableData ef9ipf1\"><div class=\"ssrcss-150z8d-CellWrapper ef9ipf0\" value=\"193\">193</div></td><td class=\"ssrcss-17jls80-StyledTableData ef9ipf1\"><div class=\"ssrcss-150z8d-CellWrapper ef9ipf0\" value=\"193\">193</div></td><td class=\"ssrcss-1dut4x2-StyledTableData ef9ipf1\"><div class=\"ssrcss-150z8d-CellWrapper ef9ipf0\" value=\"56\">56</div></td><td class=\"ssrcss-jfz7x5-StyledTableData ef9ipf1\"><div class=\"ssrcss-150z8d-CellWrapper ef9ipf0\" value=\"16%\">16%</div></td><td class=\"ssrcss-1dut4x2-StyledTableData ef9ipf1\"><div class=\"ssrcss-150z8d-CellWrapper ef9ipf0\" value=\"50%\">50%</div></td></tr>, <tr class=\"ssrcss-dhlz6k-TableRowBody e1icz100\"><td class=\"ssrcss-fvkmzs-StyledTableData ef9ipf1\"><div class=\"ssrcss-qg0qvg-CellWrapper ef9ipf0\" value=\"21\"><div class=\"ssrcss-wjp01q-RankAndBadgeWrapper e1n6h4mf2\"><span class=\"ssrcss-1xljqjf-Rank e1n6h4mf1\">21</span><div class=\"ssrcss-833zc8-BadgeWrapper e1n6h4mf0\"><div class=\"ssrcss-bdya4g-MobileOnlyWrapper e1v3gc7i1\"><div class=\"ssrcss-1ij97kg-BadgeContainer ezmsq4q1\" data-testid=\"badge-container-manchester-united\" size=\"20\"><img alt=\"\" aria-hidden=\"true\" class=\"ssrcss-1knyx38-BadgeImage ezmsq4q0\" data-testid=\"badge-img-manchester-united\" src=\"https://static.files.bbci.co.uk/core/website/assets/static/sport/football/manchester-united.86bd98b7c3.svg\"/></div></div><div class=\"ssrcss-dngukv-DesktopOnlyWrapper e1v3gc7i0\"><div class=\"ssrcss-1b9x5pa-BadgeContainer ezmsq4q1\" data-testid=\"badge-container-manchester-united\" size=\"24\"><img alt=\"\" aria-hidden=\"true\" class=\"ssrcss-1knyx38-BadgeImage ezmsq4q0\" data-testid=\"badge-img-manchester-united\" src=\"https://static.files.bbci.co.uk/core/website/assets/static/sport/football/manchester-united.86bd98b7c3.svg\"/></div></div></div></div></div></td><td class=\"ssrcss-fvkmzs-StyledTableData ef9ipf1\"><div class=\"ssrcss-qg0qvg-CellWrapper ef9ipf0\"><div data-player-id=\"urn:bbc:sportsdata:football:player:s-3vtjjrqof5z2tjj84ehadqc45\" data-team-id=\"urn:bbc:sportsdata:football:team:manchester-united\"></div><div class=\"ssrcss-dngukv-DesktopOnlyWrapper e1v3gc7i0\"><div role=\"text\"><div class=\"ssrcss-m6ah29-PlayerName e1n8xy5b1\">Bruno Fernandes</div><div class=\"ssrcss-qvpga1-TeamsSummary e1n8xy5b0\">Man Utd</div></div></div><div class=\"ssrcss-bdya4g-MobileOnlyWrapper e1v3gc7i1\"><div role=\"text\"><div class=\"ssrcss-m6ah29-PlayerName e1n8xy5b1\">Bruno Fernandes</div><div class=\"ssrcss-qvpga1-TeamsSummary e1n8xy5b0\">Man Utd</div></div></div></div></td><td class=\"ssrcss-jfz7x5-StyledTableData ef9ipf1\"><div class=\"ssrcss-8k20kk-CellWrapper ef9ipf0\" value=\"8\">8</div></td><td class=\"ssrcss-db6a34-StyledTableData ef9ipf1\"><div class=\"ssrcss-8k20kk-CellWrapper ef9ipf0\" value=\"8\">8</div></td><td class=\"ssrcss-jfz7x5-StyledTableData ef9ipf1\"><div class=\"ssrcss-150z8d-CellWrapper ef9ipf0\" value=\"9\">9</div></td><td class=\"ssrcss-db6a34-StyledTableData ef9ipf1\"><div class=\"ssrcss-150z8d-CellWrapper ef9ipf0\" value=\"9\">9</div></td><td class=\"ssrcss-jfz7x5-StyledTableData ef9ipf1\"><div class=\"ssrcss-150z8d-CellWrapper ef9ipf0\" value=\"29\">29</div></td><td class=\"ssrcss-db6a34-StyledTableData ef9ipf1\"><div class=\"ssrcss-150z8d-CellWrapper ef9ipf0\" value=\"29\">29</div></td><td class=\"ssrcss-jfz7x5-StyledTableData ef9ipf1\"><div class=\"ssrcss-150z8d-CellWrapper ef9ipf0\" value=\"0.29\">0.29</div></td><td class=\"ssrcss-1t1swew-StyledTableData ef9ipf1\"><div class=\"ssrcss-150z8d-CellWrapper ef9ipf0\" value=\"309\">309</div></td><td class=\"ssrcss-17jls80-StyledTableData ef9ipf1\"><div class=\"ssrcss-150z8d-CellWrapper ef9ipf0\" value=\"309\">309</div></td><td class=\"ssrcss-1dut4x2-StyledTableData ef9ipf1\"><div class=\"ssrcss-150z8d-CellWrapper ef9ipf0\" value=\"78\">78</div></td><td class=\"ssrcss-jfz7x5-StyledTableData ef9ipf1\"><div class=\"ssrcss-150z8d-CellWrapper ef9ipf0\" value=\"10%\">10%</div></td><td class=\"ssrcss-1dut4x2-StyledTableData ef9ipf1\"><div class=\"ssrcss-150z8d-CellWrapper ef9ipf0\" value=\"33%\">33%</div></td></tr>, <tr class=\"ssrcss-dhlz6k-TableRowBody e1icz100\"><td class=\"ssrcss-fvkmzs-StyledTableData ef9ipf1\"><div class=\"ssrcss-qg0qvg-CellWrapper ef9ipf0\" value=\"21\"><div class=\"ssrcss-wjp01q-RankAndBadgeWrapper e1n6h4mf2\"><span class=\"ssrcss-1xljqjf-Rank e1n6h4mf1\">21</span><div class=\"ssrcss-833zc8-BadgeWrapper e1n6h4mf0\"><div class=\"ssrcss-bdya4g-MobileOnlyWrapper e1v3gc7i1\"><div class=\"ssrcss-1ij97kg-BadgeContainer ezmsq4q1\" data-testid=\"badge-container-brighton-and-hove-albion\" size=\"20\"><img alt=\"\" aria-hidden=\"true\" class=\"ssrcss-1knyx38-BadgeImage ezmsq4q0\" data-testid=\"badge-img-brighton-and-hove-albion\" src=\"https://static.files.bbci.co.uk/core/website/assets/static/sport/football/brighton-and-hove-albion.894064a4c3.svg\"/></div></div><div class=\"ssrcss-dngukv-DesktopOnlyWrapper e1v3gc7i0\"><div class=\"ssrcss-1b9x5pa-BadgeContainer ezmsq4q1\" data-testid=\"badge-container-brighton-and-hove-albion\" size=\"24\"><img alt=\"\" aria-hidden=\"true\" class=\"ssrcss-1knyx38-BadgeImage ezmsq4q0\" data-testid=\"badge-img-brighton-and-hove-albion\" src=\"https://static.files.bbci.co.uk/core/website/assets/static/sport/football/brighton-and-hove-albion.894064a4c3.svg\"/></div></div></div></div></div></td><td class=\"ssrcss-fvkmzs-StyledTableData ef9ipf1\"><div class=\"ssrcss-qg0qvg-CellWrapper ef9ipf0\"><div data-player-id=\"urn:bbc:sportsdata:football:player:s-eaqqezw2ed1u0tt3zc128mr1m\" data-team-id=\"urn:bbc:sportsdata:football:team:brighton-and-hove-albion\"></div><div class=\"ssrcss-dngukv-DesktopOnlyWrapper e1v3gc7i0\"><div role=\"text\"><div class=\"ssrcss-m6ah29-PlayerName e1n8xy5b1\">João Pedro</div><div class=\"ssrcss-qvpga1-TeamsSummary e1n8xy5b0\">Brighton</div></div></div><div class=\"ssrcss-bdya4g-MobileOnlyWrapper e1v3gc7i1\"><div role=\"text\"><div class=\"ssrcss-m6ah29-PlayerName e1n8xy5b1\">João Pedro</div><div class=\"ssrcss-qvpga1-TeamsSummary e1n8xy5b0\">Brighton</div></div></div></div></td><td class=\"ssrcss-jfz7x5-StyledTableData ef9ipf1\"><div class=\"ssrcss-8k20kk-CellWrapper ef9ipf0\" value=\"8\">8</div></td><td class=\"ssrcss-db6a34-StyledTableData ef9ipf1\"><div class=\"ssrcss-8k20kk-CellWrapper ef9ipf0\" value=\"8\">8</div></td><td class=\"ssrcss-jfz7x5-StyledTableData ef9ipf1\"><div class=\"ssrcss-150z8d-CellWrapper ef9ipf0\" value=\"6\">6</div></td><td class=\"ssrcss-db6a34-StyledTableData ef9ipf1\"><div class=\"ssrcss-150z8d-CellWrapper ef9ipf0\" value=\"6\">6</div></td><td class=\"ssrcss-jfz7x5-StyledTableData ef9ipf1\"><div class=\"ssrcss-150z8d-CellWrapper ef9ipf0\" value=\"25\">25</div></td><td class=\"ssrcss-db6a34-StyledTableData ef9ipf1\"><div class=\"ssrcss-150z8d-CellWrapper ef9ipf0\" value=\"25\">25</div></td><td class=\"ssrcss-jfz7x5-StyledTableData ef9ipf1\"><div class=\"ssrcss-150z8d-CellWrapper ef9ipf0\" value=\"0.4\">0.4</div></td><td class=\"ssrcss-1t1swew-StyledTableData ef9ipf1\"><div class=\"ssrcss-150z8d-CellWrapper ef9ipf0\" value=\"225\">225</div></td><td class=\"ssrcss-17jls80-StyledTableData ef9ipf1\"><div class=\"ssrcss-150z8d-CellWrapper ef9ipf0\" value=\"225\">225</div></td><td class=\"ssrcss-1dut4x2-StyledTableData ef9ipf1\"><div class=\"ssrcss-150z8d-CellWrapper ef9ipf0\" value=\"43\">43</div></td><td class=\"ssrcss-jfz7x5-StyledTableData ef9ipf1\"><div class=\"ssrcss-150z8d-CellWrapper ef9ipf0\" value=\"19%\">19%</div></td><td class=\"ssrcss-1dut4x2-StyledTableData ef9ipf1\"><div class=\"ssrcss-150z8d-CellWrapper ef9ipf0\" value=\"42%\">42%</div></td></tr>, <tr class=\"ssrcss-dhlz6k-TableRowBody e1icz100\"><td class=\"ssrcss-fvkmzs-StyledTableData ef9ipf1\"><div class=\"ssrcss-qg0qvg-CellWrapper ef9ipf0\" value=\"21\"><div class=\"ssrcss-wjp01q-RankAndBadgeWrapper e1n6h4mf2\"><span class=\"ssrcss-1xljqjf-Rank e1n6h4mf1\">21</span><div class=\"ssrcss-833zc8-BadgeWrapper e1n6h4mf0\"><div class=\"ssrcss-bdya4g-MobileOnlyWrapper e1v3gc7i1\"><div class=\"ssrcss-1ij97kg-BadgeContainer ezmsq4q1\" data-testid=\"badge-container-aston-villa\" size=\"20\"><img alt=\"\" aria-hidden=\"true\" class=\"ssrcss-1knyx38-BadgeImage ezmsq4q0\" data-testid=\"badge-img-aston-villa\" src=\"https://static.files.bbci.co.uk/core/website/assets/static/sport/football/aston-villa.7462c0d498.svg\"/></div></div><div class=\"ssrcss-dngukv-DesktopOnlyWrapper e1v3gc7i0\"><div class=\"ssrcss-1b9x5pa-BadgeContainer ezmsq4q1\" data-testid=\"badge-container-aston-villa\" size=\"24\"><img alt=\"\" aria-hidden=\"true\" class=\"ssrcss-1knyx38-BadgeImage ezmsq4q0\" data-testid=\"badge-img-aston-villa\" src=\"https://static.files.bbci.co.uk/core/website/assets/static/sport/football/aston-villa.7462c0d498.svg\"/></div></div></div></div></div></td><td class=\"ssrcss-fvkmzs-StyledTableData ef9ipf1\"><div class=\"ssrcss-qg0qvg-CellWrapper ef9ipf0\"><div data-player-id=\"urn:bbc:sportsdata:football:player:s-2eayhzdix8knmn810sbngsdt5\" data-team-id=\"urn:bbc:sportsdata:football:team:aston-villa\"></div><div class=\"ssrcss-dngukv-DesktopOnlyWrapper e1v3gc7i0\"><div role=\"text\"><div class=\"ssrcss-m6ah29-PlayerName e1n8xy5b1\">M. Rogers</div><div class=\"ssrcss-qvpga1-TeamsSummary e1n8xy5b0\">Aston Villa</div></div></div><div class=\"ssrcss-bdya4g-MobileOnlyWrapper e1v3gc7i1\"><div role=\"text\"><div class=\"ssrcss-m6ah29-PlayerName e1n8xy5b1\">M. Rogers</div><div class=\"ssrcss-qvpga1-TeamsSummary e1n8xy5b0\">Aston Villa</div></div></div></div></td><td class=\"ssrcss-jfz7x5-StyledTableData ef9ipf1\"><div class=\"ssrcss-8k20kk-CellWrapper ef9ipf0\" value=\"8\">8</div></td><td class=\"ssrcss-db6a34-StyledTableData ef9ipf1\"><div class=\"ssrcss-8k20kk-CellWrapper ef9ipf0\" value=\"8\">8</div></td><td class=\"ssrcss-jfz7x5-StyledTableData ef9ipf1\"><div class=\"ssrcss-150z8d-CellWrapper ef9ipf0\" value=\"6\">6</div></td><td class=\"ssrcss-db6a34-StyledTableData ef9ipf1\"><div class=\"ssrcss-150z8d-CellWrapper ef9ipf0\" value=\"6\">6</div></td><td class=\"ssrcss-jfz7x5-StyledTableData ef9ipf1\"><div class=\"ssrcss-150z8d-CellWrapper ef9ipf0\" value=\"30\">30</div></td><td class=\"ssrcss-db6a34-StyledTableData ef9ipf1\"><div class=\"ssrcss-150z8d-CellWrapper ef9ipf0\" value=\"30\">30</div></td><td class=\"ssrcss-jfz7x5-StyledTableData ef9ipf1\"><div class=\"ssrcss-150z8d-CellWrapper ef9ipf0\" value=\"0.29\">0.29</div></td><td class=\"ssrcss-1t1swew-StyledTableData ef9ipf1\"><div class=\"ssrcss-150z8d-CellWrapper ef9ipf0\" value=\"315\">315</div></td><td class=\"ssrcss-17jls80-StyledTableData ef9ipf1\"><div class=\"ssrcss-150z8d-CellWrapper ef9ipf0\" value=\"315\">315</div></td><td class=\"ssrcss-1dut4x2-StyledTableData ef9ipf1\"><div class=\"ssrcss-150z8d-CellWrapper ef9ipf0\" value=\"48\">48</div></td><td class=\"ssrcss-jfz7x5-StyledTableData ef9ipf1\"><div class=\"ssrcss-150z8d-CellWrapper ef9ipf0\" value=\"17%\">17%</div></td><td class=\"ssrcss-1dut4x2-StyledTableData ef9ipf1\"><div class=\"ssrcss-150z8d-CellWrapper ef9ipf0\" value=\"33%\">33%</div></td></tr>, <tr class=\"ssrcss-dhlz6k-TableRowBody e1icz100\"><td class=\"ssrcss-fvkmzs-StyledTableData ef9ipf1\"><div class=\"ssrcss-qg0qvg-CellWrapper ef9ipf0\" value=\"21\"><div class=\"ssrcss-wjp01q-RankAndBadgeWrapper e1n6h4mf2\"><span class=\"ssrcss-1xljqjf-Rank e1n6h4mf1\">21</span><div class=\"ssrcss-833zc8-BadgeWrapper e1n6h4mf0\"><div class=\"ssrcss-bdya4g-MobileOnlyWrapper e1v3gc7i1\"><div class=\"ssrcss-1ij97kg-BadgeContainer ezmsq4q1\" data-testid=\"badge-container-west-ham-united\" size=\"20\"><img alt=\"\" aria-hidden=\"true\" class=\"ssrcss-1knyx38-BadgeImage ezmsq4q0\" data-testid=\"badge-img-west-ham-united\" src=\"https://static.files.bbci.co.uk/core/website/assets/static/sport/football/west-ham-united.8031b8c4c7.svg\"/></div></div><div class=\"ssrcss-dngukv-DesktopOnlyWrapper e1v3gc7i0\"><div class=\"ssrcss-1b9x5pa-BadgeContainer ezmsq4q1\" data-testid=\"badge-container-west-ham-united\" size=\"24\"><img alt=\"\" aria-hidden=\"true\" class=\"ssrcss-1knyx38-BadgeImage ezmsq4q0\" data-testid=\"badge-img-west-ham-united\" src=\"https://static.files.bbci.co.uk/core/website/assets/static/sport/football/west-ham-united.8031b8c4c7.svg\"/></div></div></div></div></div></td><td class=\"ssrcss-fvkmzs-StyledTableData ef9ipf1\"><div class=\"ssrcss-qg0qvg-CellWrapper ef9ipf0\"><div data-player-id=\"urn:bbc:sportsdata:football:player:s-d542ijpf3j9hdrtt1mfe6vwlx\" data-team-id=\"urn:bbc:sportsdata:football:team:west-ham-united\"></div><div class=\"ssrcss-dngukv-DesktopOnlyWrapper e1v3gc7i0\"><div role=\"text\"><div class=\"ssrcss-m6ah29-PlayerName e1n8xy5b1\">J. Bowen</div><div class=\"ssrcss-qvpga1-TeamsSummary e1n8xy5b0\">West Ham</div></div></div><div class=\"ssrcss-bdya4g-MobileOnlyWrapper e1v3gc7i1\"><div role=\"text\"><div class=\"ssrcss-m6ah29-PlayerName e1n8xy5b1\">J. Bowen</div><div class=\"ssrcss-qvpga1-TeamsSummary e1n8xy5b0\">West Ham</div></div></div></div></td><td class=\"ssrcss-jfz7x5-StyledTableData ef9ipf1\"><div class=\"ssrcss-8k20kk-CellWrapper ef9ipf0\" value=\"8\">8</div></td><td class=\"ssrcss-db6a34-StyledTableData ef9ipf1\"><div class=\"ssrcss-8k20kk-CellWrapper ef9ipf0\" value=\"8\">8</div></td><td class=\"ssrcss-jfz7x5-StyledTableData ef9ipf1\"><div class=\"ssrcss-150z8d-CellWrapper ef9ipf0\" value=\"5\">5</div></td><td class=\"ssrcss-db6a34-StyledTableData ef9ipf1\"><div class=\"ssrcss-150z8d-CellWrapper ef9ipf0\" value=\"5\">5</div></td><td class=\"ssrcss-jfz7x5-StyledTableData ef9ipf1\"><div class=\"ssrcss-150z8d-CellWrapper ef9ipf0\" value=\"27\">27</div></td><td class=\"ssrcss-db6a34-StyledTableData ef9ipf1\"><div class=\"ssrcss-150z8d-CellWrapper ef9ipf0\" value=\"27\">27</div></td><td class=\"ssrcss-jfz7x5-StyledTableData ef9ipf1\"><div class=\"ssrcss-150z8d-CellWrapper ef9ipf0\" value=\"0.3\">0.3</div></td><td class=\"ssrcss-1t1swew-StyledTableData ef9ipf1\"><div class=\"ssrcss-150z8d-CellWrapper ef9ipf0\" value=\"296\">296</div></td><td class=\"ssrcss-17jls80-StyledTableData ef9ipf1\"><div class=\"ssrcss-150z8d-CellWrapper ef9ipf0\" value=\"296\">296</div></td><td class=\"ssrcss-1dut4x2-StyledTableData ef9ipf1\"><div class=\"ssrcss-150z8d-CellWrapper ef9ipf0\" value=\"71\">71</div></td><td class=\"ssrcss-jfz7x5-StyledTableData ef9ipf1\"><div class=\"ssrcss-150z8d-CellWrapper ef9ipf0\" value=\"11%\">11%</div></td><td class=\"ssrcss-1dut4x2-StyledTableData ef9ipf1\"><div class=\"ssrcss-150z8d-CellWrapper ef9ipf0\" value=\"41%\">41%</div></td></tr>, <tr class=\"ssrcss-dhlz6k-TableRowBody e1icz100\"><td class=\"ssrcss-fvkmzs-StyledTableData ef9ipf1\"><div class=\"ssrcss-qg0qvg-CellWrapper ef9ipf0\" value=\"21\"><div class=\"ssrcss-wjp01q-RankAndBadgeWrapper e1n6h4mf2\"><span class=\"ssrcss-1xljqjf-Rank e1n6h4mf1\">21</span><div class=\"ssrcss-833zc8-BadgeWrapper e1n6h4mf0\"><div class=\"ssrcss-bdya4g-MobileOnlyWrapper e1v3gc7i1\"><div class=\"ssrcss-1ij97kg-BadgeContainer ezmsq4q1\" data-testid=\"badge-container-brighton-and-hove-albion\" size=\"20\"><img alt=\"\" aria-hidden=\"true\" class=\"ssrcss-1knyx38-BadgeImage ezmsq4q0\" data-testid=\"badge-img-brighton-and-hove-albion\" src=\"https://static.files.bbci.co.uk/core/website/assets/static/sport/football/brighton-and-hove-albion.894064a4c3.svg\"/></div></div><div class=\"ssrcss-dngukv-DesktopOnlyWrapper e1v3gc7i0\"><div class=\"ssrcss-1b9x5pa-BadgeContainer ezmsq4q1\" data-testid=\"badge-container-brighton-and-hove-albion\" size=\"24\"><img alt=\"\" aria-hidden=\"true\" class=\"ssrcss-1knyx38-BadgeImage ezmsq4q0\" data-testid=\"badge-img-brighton-and-hove-albion\" src=\"https://static.files.bbci.co.uk/core/website/assets/static/sport/football/brighton-and-hove-albion.894064a4c3.svg\"/></div></div></div></div></div></td><td class=\"ssrcss-fvkmzs-StyledTableData ef9ipf1\"><div class=\"ssrcss-qg0qvg-CellWrapper ef9ipf0\"><div data-player-id=\"urn:bbc:sportsdata:football:player:s-c0yxqwkxqx1sty7abj1qwh9zp\" data-team-id=\"urn:bbc:sportsdata:football:team:brighton-and-hove-albion\"></div><div class=\"ssrcss-dngukv-DesktopOnlyWrapper e1v3gc7i0\"><div role=\"text\"><div class=\"ssrcss-m6ah29-PlayerName e1n8xy5b1\">D. Welbeck</div><div class=\"ssrcss-qvpga1-TeamsSummary e1n8xy5b0\">Brighton</div></div></div><div class=\"ssrcss-bdya4g-MobileOnlyWrapper e1v3gc7i1\"><div role=\"text\"><div class=\"ssrcss-m6ah29-PlayerName e1n8xy5b1\">D. Welbeck</div><div class=\"ssrcss-qvpga1-TeamsSummary e1n8xy5b0\">Brighton</div></div></div></div></td><td class=\"ssrcss-jfz7x5-StyledTableData ef9ipf1\"><div class=\"ssrcss-8k20kk-CellWrapper ef9ipf0\" value=\"8\">8</div></td><td class=\"ssrcss-db6a34-StyledTableData ef9ipf1\"><div class=\"ssrcss-8k20kk-CellWrapper ef9ipf0\" value=\"8\">8</div></td><td class=\"ssrcss-jfz7x5-StyledTableData ef9ipf1\"><div class=\"ssrcss-150z8d-CellWrapper ef9ipf0\" value=\"4\">4</div></td><td class=\"ssrcss-db6a34-StyledTableData ef9ipf1\"><div class=\"ssrcss-150z8d-CellWrapper ef9ipf0\" value=\"4\">4</div></td><td class=\"ssrcss-jfz7x5-StyledTableData ef9ipf1\"><div class=\"ssrcss-150z8d-CellWrapper ef9ipf0\" value=\"24\">24</div></td><td class=\"ssrcss-db6a34-StyledTableData ef9ipf1\"><div class=\"ssrcss-150z8d-CellWrapper ef9ipf0\" value=\"24\">24</div></td><td class=\"ssrcss-jfz7x5-StyledTableData ef9ipf1\"><div class=\"ssrcss-150z8d-CellWrapper ef9ipf0\" value=\"0.45\">0.45</div></td><td class=\"ssrcss-1t1swew-StyledTableData ef9ipf1\"><div class=\"ssrcss-150z8d-CellWrapper ef9ipf0\" value=\"200\">200</div></td><td class=\"ssrcss-17jls80-StyledTableData ef9ipf1\"><div class=\"ssrcss-150z8d-CellWrapper ef9ipf0\" value=\"200\">200</div></td><td class=\"ssrcss-1dut4x2-StyledTableData ef9ipf1\"><div class=\"ssrcss-150z8d-CellWrapper ef9ipf0\" value=\"44\">44</div></td><td class=\"ssrcss-jfz7x5-StyledTableData ef9ipf1\"><div class=\"ssrcss-150z8d-CellWrapper ef9ipf0\" value=\"18%\">18%</div></td><td class=\"ssrcss-1dut4x2-StyledTableData ef9ipf1\"><div class=\"ssrcss-150z8d-CellWrapper ef9ipf0\" value=\"39%\">39%</div></td></tr>, <tr class=\"ssrcss-dhlz6k-TableRowBody e1icz100\"><td class=\"ssrcss-fvkmzs-StyledTableData ef9ipf1\"><div class=\"ssrcss-qg0qvg-CellWrapper ef9ipf0\" value=\"21\"><div class=\"ssrcss-wjp01q-RankAndBadgeWrapper e1n6h4mf2\"><span class=\"ssrcss-1xljqjf-Rank e1n6h4mf1\">21</span><div class=\"ssrcss-833zc8-BadgeWrapper e1n6h4mf0\"><div class=\"ssrcss-bdya4g-MobileOnlyWrapper e1v3gc7i1\"><div class=\"ssrcss-1ij97kg-BadgeContainer ezmsq4q1\" data-testid=\"badge-container-liverpool\" size=\"20\"><img alt=\"\" aria-hidden=\"true\" class=\"ssrcss-1knyx38-BadgeImage ezmsq4q0\" data-testid=\"badge-img-liverpool\" src=\"https://static.files.bbci.co.uk/core/website/assets/static/sport/football/liverpool.0d2ced3f9a.svg\"/></div></div><div class=\"ssrcss-dngukv-DesktopOnlyWrapper e1v3gc7i0\"><div class=\"ssrcss-1b9x5pa-BadgeContainer ezmsq4q1\" data-testid=\"badge-container-liverpool\" size=\"24\"><img alt=\"\" aria-hidden=\"true\" class=\"ssrcss-1knyx38-BadgeImage ezmsq4q0\" data-testid=\"badge-img-liverpool\" src=\"https://static.files.bbci.co.uk/core/website/assets/static/sport/football/liverpool.0d2ced3f9a.svg\"/></div></div></div></div></div></td><td class=\"ssrcss-fvkmzs-StyledTableData ef9ipf1\"><div class=\"ssrcss-qg0qvg-CellWrapper ef9ipf0\"><div data-player-id=\"urn:bbc:sportsdata:football:player:s-9psfk94nduz6icnuwty5v9all\" data-team-id=\"urn:bbc:sportsdata:football:team:liverpool\"></div><div class=\"ssrcss-dngukv-DesktopOnlyWrapper e1v3gc7i0\"><div role=\"text\"><div class=\"ssrcss-m6ah29-PlayerName e1n8xy5b1\">C. Gakpo</div><div class=\"ssrcss-qvpga1-TeamsSummary e1n8xy5b0\">Liverpool</div></div></div><div class=\"ssrcss-bdya4g-MobileOnlyWrapper e1v3gc7i1\"><div role=\"text\"><div class=\"ssrcss-m6ah29-PlayerName e1n8xy5b1\">C. Gakpo</div><div class=\"ssrcss-qvpga1-TeamsSummary e1n8xy5b0\">Liverpool</div></div></div></div></td><td class=\"ssrcss-jfz7x5-StyledTableData ef9ipf1\"><div class=\"ssrcss-8k20kk-CellWrapper ef9ipf0\" value=\"8\">8</div></td><td class=\"ssrcss-db6a34-StyledTableData ef9ipf1\"><div class=\"ssrcss-8k20kk-CellWrapper ef9ipf0\" value=\"8\">8</div></td><td class=\"ssrcss-jfz7x5-StyledTableData ef9ipf1\"><div class=\"ssrcss-150z8d-CellWrapper ef9ipf0\" value=\"3\">3</div></td><td class=\"ssrcss-db6a34-StyledTableData ef9ipf1\"><div class=\"ssrcss-150z8d-CellWrapper ef9ipf0\" value=\"3\">3</div></td><td class=\"ssrcss-jfz7x5-StyledTableData ef9ipf1\"><div class=\"ssrcss-150z8d-CellWrapper ef9ipf0\" value=\"27\">27</div></td><td class=\"ssrcss-db6a34-StyledTableData ef9ipf1\"><div class=\"ssrcss-150z8d-CellWrapper ef9ipf0\" value=\"27\">27</div></td><td class=\"ssrcss-jfz7x5-StyledTableData ef9ipf1\"><div class=\"ssrcss-150z8d-CellWrapper ef9ipf0\" value=\"0.51\">0.51</div></td><td class=\"ssrcss-1t1swew-StyledTableData ef9ipf1\"><div class=\"ssrcss-150z8d-CellWrapper ef9ipf0\" value=\"177\">177</div></td><td class=\"ssrcss-17jls80-StyledTableData ef9ipf1\"><div class=\"ssrcss-150z8d-CellWrapper ef9ipf0\" value=\"177\">177</div></td><td class=\"ssrcss-1dut4x2-StyledTableData ef9ipf1\"><div class=\"ssrcss-150z8d-CellWrapper ef9ipf0\" value=\"44\">44</div></td><td class=\"ssrcss-jfz7x5-StyledTableData ef9ipf1\"><div class=\"ssrcss-150z8d-CellWrapper ef9ipf0\" value=\"18%\">18%</div></td><td class=\"ssrcss-1dut4x2-StyledTableData ef9ipf1\"><div class=\"ssrcss-150z8d-CellWrapper ef9ipf0\" value=\"39%\">39%</div></td></tr>]\n"
     ]
    }
   ],
   "source": [
    "try:\n",
    "    response = requests.get(url)\n",
    "    response.raise_for_status()\n",
    "except Exception as e:\n",
    "    print(e)\n",
    "else:\n",
    "    soup = BeautifulSoup(response.content,'html.parser')\n",
    "    print(soup.find('tbody').find_all('tr', class_=\"ssrcss-dhlz6k-TableRowBody e1icz100\"))"
   ]
  },
  {
   "cell_type": "code",
   "execution_count": 22,
   "metadata": {},
   "outputs": [
    {
     "name": "stdout",
     "output_type": "stream",
     "text": [
      "26\n"
     ]
    }
   ],
   "source": [
    "print(len(soup.find('tbody').find_all('tr', class_=\"ssrcss-dhlz6k-TableRowBody e1icz100\")))"
   ]
  },
  {
   "cell_type": "code",
   "execution_count": 77,
   "metadata": {},
   "outputs": [],
   "source": [
    "players = soup.find('tbody').find_all('tr', class_=\"ssrcss-dhlz6k-TableRowBody e1icz100\")\n",
    "\n",
    "# Initialize lists\n",
    "player_names, team_names, goals, assists, num_matches, shots = [], [], [], [], [], []\n",
    "\n",
    "for player in players:\n",
    "    try:\n",
    "        player_name = player.find('div', class_='ssrcss-m6ah29-PlayerName e1n8xy5b1').get_text(strip=True)\n",
    "        team_name = player.find('div', class_=\"ssrcss-qvpga1-TeamsSummary e1n8xy5b0\").get_text(strip=True)\n",
    "        goals_score = int(player.find('div', class_='ssrcss-8k20kk-CellWrapper ef9ipf0').get_text(strip=True))\n",
    "\n",
    "        stats = player.find_all('div', class_='ssrcss-150z8d-CellWrapper ef9ipf0') \n",
    "        assists_made = int(stats[0].get_text(strip=True))\n",
    "        matches_played = int(stats[2].get_text(strip=True))\n",
    "        shots_taken = int(stats[-3].get_text(strip=True))\n",
    "\n",
    "        # Append to lists\n",
    "        player_names.append(player_name)\n",
    "        team_names.append(team_name)\n",
    "        goals.append(goals_score)\n",
    "        assists.append(assists_made)\n",
    "        num_matches.append(matches_played)\n",
    "        shots.append(shots_taken)\n",
    "\n",
    "    except Exception as e:\n",
    "        print(f\" Skipped a row due to error: {e}\")\n",
    "\n",
    "# Create DataFrame\n",
    "data = {\n",
    "    'player': player_names,\n",
    "    'team': team_names,\n",
    "    'matches': num_matches,\n",
    "    'goals': goals,\n",
    "    'assists': assists,\n",
    "    'shots': shots\n",
    "}\n",
    "\n",
    "df_players = pd.DataFrame(data)\n"
   ]
  },
  {
   "cell_type": "code",
   "execution_count": 79,
   "metadata": {},
   "outputs": [
    {
     "data": {
      "text/html": [
       "<div>\n",
       "<style scoped>\n",
       "    .dataframe tbody tr th:only-of-type {\n",
       "        vertical-align: middle;\n",
       "    }\n",
       "\n",
       "    .dataframe tbody tr th {\n",
       "        vertical-align: top;\n",
       "    }\n",
       "\n",
       "    .dataframe thead th {\n",
       "        text-align: right;\n",
       "    }\n",
       "</style>\n",
       "<table border=\"1\" class=\"dataframe\">\n",
       "  <thead>\n",
       "    <tr style=\"text-align: right;\">\n",
       "      <th></th>\n",
       "      <th>player</th>\n",
       "      <th>team</th>\n",
       "      <th>matches</th>\n",
       "      <th>goals</th>\n",
       "      <th>assists</th>\n",
       "      <th>shots</th>\n",
       "    </tr>\n",
       "  </thead>\n",
       "  <tbody>\n",
       "    <tr>\n",
       "      <th>0</th>\n",
       "      <td>Mohamed Salah</td>\n",
       "      <td>Liverpool</td>\n",
       "      <td>30</td>\n",
       "      <td>27</td>\n",
       "      <td>17</td>\n",
       "      <td>107</td>\n",
       "    </tr>\n",
       "    <tr>\n",
       "      <th>1</th>\n",
       "      <td>E. Haaland</td>\n",
       "      <td>Man City</td>\n",
       "      <td>28</td>\n",
       "      <td>21</td>\n",
       "      <td>3</td>\n",
       "      <td>102</td>\n",
       "    </tr>\n",
       "    <tr>\n",
       "      <th>2</th>\n",
       "      <td>A. Isak</td>\n",
       "      <td>Newcastle</td>\n",
       "      <td>26</td>\n",
       "      <td>20</td>\n",
       "      <td>5</td>\n",
       "      <td>72</td>\n",
       "    </tr>\n",
       "    <tr>\n",
       "      <th>3</th>\n",
       "      <td>C. Wood</td>\n",
       "      <td>Nottm Forest</td>\n",
       "      <td>29</td>\n",
       "      <td>18</td>\n",
       "      <td>3</td>\n",
       "      <td>53</td>\n",
       "    </tr>\n",
       "    <tr>\n",
       "      <th>4</th>\n",
       "      <td>B. Mbeumo</td>\n",
       "      <td>Brentford</td>\n",
       "      <td>30</td>\n",
       "      <td>16</td>\n",
       "      <td>5</td>\n",
       "      <td>65</td>\n",
       "    </tr>\n",
       "    <tr>\n",
       "      <th>5</th>\n",
       "      <td>C. Palmer</td>\n",
       "      <td>Chelsea</td>\n",
       "      <td>29</td>\n",
       "      <td>14</td>\n",
       "      <td>7</td>\n",
       "      <td>104</td>\n",
       "    </tr>\n",
       "    <tr>\n",
       "      <th>6</th>\n",
       "      <td>Y. Wissa</td>\n",
       "      <td>Brentford</td>\n",
       "      <td>27</td>\n",
       "      <td>14</td>\n",
       "      <td>2</td>\n",
       "      <td>66</td>\n",
       "    </tr>\n",
       "    <tr>\n",
       "      <th>7</th>\n",
       "      <td>O. Watkins</td>\n",
       "      <td>Aston Villa</td>\n",
       "      <td>31</td>\n",
       "      <td>13</td>\n",
       "      <td>6</td>\n",
       "      <td>72</td>\n",
       "    </tr>\n",
       "    <tr>\n",
       "      <th>8</th>\n",
       "      <td>Matheus Cunha</td>\n",
       "      <td>Wolves</td>\n",
       "      <td>26</td>\n",
       "      <td>13</td>\n",
       "      <td>4</td>\n",
       "      <td>86</td>\n",
       "    </tr>\n",
       "    <tr>\n",
       "      <th>9</th>\n",
       "      <td>J. Mateta</td>\n",
       "      <td>Crystal Palace</td>\n",
       "      <td>29</td>\n",
       "      <td>13</td>\n",
       "      <td>2</td>\n",
       "      <td>57</td>\n",
       "    </tr>\n",
       "    <tr>\n",
       "      <th>10</th>\n",
       "      <td>J. Kluivert</td>\n",
       "      <td>Bournemouth</td>\n",
       "      <td>28</td>\n",
       "      <td>12</td>\n",
       "      <td>6</td>\n",
       "      <td>56</td>\n",
       "    </tr>\n",
       "    <tr>\n",
       "      <th>11</th>\n",
       "      <td>L. Delap</td>\n",
       "      <td>Ipswich</td>\n",
       "      <td>30</td>\n",
       "      <td>12</td>\n",
       "      <td>2</td>\n",
       "      <td>60</td>\n",
       "    </tr>\n",
       "    <tr>\n",
       "      <th>12</th>\n",
       "      <td>J. Strand Larsen</td>\n",
       "      <td>Wolves</td>\n",
       "      <td>29</td>\n",
       "      <td>11</td>\n",
       "      <td>2</td>\n",
       "      <td>44</td>\n",
       "    </tr>\n",
       "    <tr>\n",
       "      <th>13</th>\n",
       "      <td>R. Jiménez</td>\n",
       "      <td>Fulham</td>\n",
       "      <td>30</td>\n",
       "      <td>10</td>\n",
       "      <td>3</td>\n",
       "      <td>79</td>\n",
       "    </tr>\n",
       "    <tr>\n",
       "      <th>14</th>\n",
       "      <td>J. Maddison</td>\n",
       "      <td>Tottenham</td>\n",
       "      <td>28</td>\n",
       "      <td>9</td>\n",
       "      <td>5</td>\n",
       "      <td>38</td>\n",
       "    </tr>\n",
       "    <tr>\n",
       "      <th>15</th>\n",
       "      <td>N. Jackson</td>\n",
       "      <td>Chelsea</td>\n",
       "      <td>24</td>\n",
       "      <td>9</td>\n",
       "      <td>5</td>\n",
       "      <td>65</td>\n",
       "    </tr>\n",
       "    <tr>\n",
       "      <th>16</th>\n",
       "      <td>L. Díaz</td>\n",
       "      <td>Liverpool</td>\n",
       "      <td>29</td>\n",
       "      <td>9</td>\n",
       "      <td>5</td>\n",
       "      <td>57</td>\n",
       "    </tr>\n",
       "    <tr>\n",
       "      <th>17</th>\n",
       "      <td>K. Havertz</td>\n",
       "      <td>Arsenal</td>\n",
       "      <td>21</td>\n",
       "      <td>9</td>\n",
       "      <td>3</td>\n",
       "      <td>52</td>\n",
       "    </tr>\n",
       "    <tr>\n",
       "      <th>18</th>\n",
       "      <td>B. Johnson</td>\n",
       "      <td>Tottenham</td>\n",
       "      <td>27</td>\n",
       "      <td>9</td>\n",
       "      <td>2</td>\n",
       "      <td>49</td>\n",
       "    </tr>\n",
       "    <tr>\n",
       "      <th>19</th>\n",
       "      <td>Evanilson</td>\n",
       "      <td>Bournemouth</td>\n",
       "      <td>24</td>\n",
       "      <td>9</td>\n",
       "      <td>0</td>\n",
       "      <td>56</td>\n",
       "    </tr>\n",
       "    <tr>\n",
       "      <th>20</th>\n",
       "      <td>Bruno Fernandes</td>\n",
       "      <td>Man Utd</td>\n",
       "      <td>29</td>\n",
       "      <td>8</td>\n",
       "      <td>9</td>\n",
       "      <td>78</td>\n",
       "    </tr>\n",
       "    <tr>\n",
       "      <th>21</th>\n",
       "      <td>João Pedro</td>\n",
       "      <td>Brighton</td>\n",
       "      <td>25</td>\n",
       "      <td>8</td>\n",
       "      <td>6</td>\n",
       "      <td>43</td>\n",
       "    </tr>\n",
       "    <tr>\n",
       "      <th>22</th>\n",
       "      <td>M. Rogers</td>\n",
       "      <td>Aston Villa</td>\n",
       "      <td>30</td>\n",
       "      <td>8</td>\n",
       "      <td>6</td>\n",
       "      <td>48</td>\n",
       "    </tr>\n",
       "    <tr>\n",
       "      <th>23</th>\n",
       "      <td>J. Bowen</td>\n",
       "      <td>West Ham</td>\n",
       "      <td>27</td>\n",
       "      <td>8</td>\n",
       "      <td>5</td>\n",
       "      <td>71</td>\n",
       "    </tr>\n",
       "    <tr>\n",
       "      <th>24</th>\n",
       "      <td>D. Welbeck</td>\n",
       "      <td>Brighton</td>\n",
       "      <td>24</td>\n",
       "      <td>8</td>\n",
       "      <td>4</td>\n",
       "      <td>44</td>\n",
       "    </tr>\n",
       "    <tr>\n",
       "      <th>25</th>\n",
       "      <td>C. Gakpo</td>\n",
       "      <td>Liverpool</td>\n",
       "      <td>27</td>\n",
       "      <td>8</td>\n",
       "      <td>3</td>\n",
       "      <td>44</td>\n",
       "    </tr>\n",
       "  </tbody>\n",
       "</table>\n",
       "</div>"
      ],
      "text/plain": [
       "              player            team  matches  goals  assists  shots\n",
       "0      Mohamed Salah       Liverpool       30     27       17    107\n",
       "1         E. Haaland        Man City       28     21        3    102\n",
       "2            A. Isak       Newcastle       26     20        5     72\n",
       "3            C. Wood    Nottm Forest       29     18        3     53\n",
       "4          B. Mbeumo       Brentford       30     16        5     65\n",
       "5          C. Palmer         Chelsea       29     14        7    104\n",
       "6           Y. Wissa       Brentford       27     14        2     66\n",
       "7         O. Watkins     Aston Villa       31     13        6     72\n",
       "8      Matheus Cunha          Wolves       26     13        4     86\n",
       "9          J. Mateta  Crystal Palace       29     13        2     57\n",
       "10       J. Kluivert     Bournemouth       28     12        6     56\n",
       "11          L. Delap         Ipswich       30     12        2     60\n",
       "12  J. Strand Larsen          Wolves       29     11        2     44\n",
       "13        R. Jiménez          Fulham       30     10        3     79\n",
       "14       J. Maddison       Tottenham       28      9        5     38\n",
       "15        N. Jackson         Chelsea       24      9        5     65\n",
       "16           L. Díaz       Liverpool       29      9        5     57\n",
       "17        K. Havertz         Arsenal       21      9        3     52\n",
       "18        B. Johnson       Tottenham       27      9        2     49\n",
       "19         Evanilson     Bournemouth       24      9        0     56\n",
       "20   Bruno Fernandes         Man Utd       29      8        9     78\n",
       "21        João Pedro        Brighton       25      8        6     43\n",
       "22         M. Rogers     Aston Villa       30      8        6     48\n",
       "23          J. Bowen        West Ham       27      8        5     71\n",
       "24        D. Welbeck        Brighton       24      8        4     44\n",
       "25          C. Gakpo       Liverpool       27      8        3     44"
      ]
     },
     "execution_count": 79,
     "metadata": {},
     "output_type": "execute_result"
    }
   ],
   "source": [
    "df_players"
   ]
  },
  {
   "cell_type": "code",
   "execution_count": 80,
   "metadata": {},
   "outputs": [
    {
     "name": "stdout",
     "output_type": "stream",
     "text": [
      "<class 'pandas.core.frame.DataFrame'>\n",
      "RangeIndex: 26 entries, 0 to 25\n",
      "Data columns (total 6 columns):\n",
      " #   Column   Non-Null Count  Dtype \n",
      "---  ------   --------------  ----- \n",
      " 0   player   26 non-null     object\n",
      " 1   team     26 non-null     object\n",
      " 2   matches  26 non-null     int64 \n",
      " 3   goals    26 non-null     int64 \n",
      " 4   assists  26 non-null     int64 \n",
      " 5   shots    26 non-null     int64 \n",
      "dtypes: int64(4), object(2)\n",
      "memory usage: 1.3+ KB\n"
     ]
    }
   ],
   "source": [
    "df_players.info()"
   ]
  },
  {
   "cell_type": "code",
   "execution_count": 81,
   "metadata": {},
   "outputs": [
    {
     "data": {
      "text/html": [
       "<div>\n",
       "<style scoped>\n",
       "    .dataframe tbody tr th:only-of-type {\n",
       "        vertical-align: middle;\n",
       "    }\n",
       "\n",
       "    .dataframe tbody tr th {\n",
       "        vertical-align: top;\n",
       "    }\n",
       "\n",
       "    .dataframe thead th {\n",
       "        text-align: right;\n",
       "    }\n",
       "</style>\n",
       "<table border=\"1\" class=\"dataframe\">\n",
       "  <thead>\n",
       "    <tr style=\"text-align: right;\">\n",
       "      <th></th>\n",
       "      <th>matches</th>\n",
       "      <th>goals</th>\n",
       "      <th>assists</th>\n",
       "      <th>shots</th>\n",
       "    </tr>\n",
       "  </thead>\n",
       "  <tbody>\n",
       "    <tr>\n",
       "      <th>count</th>\n",
       "      <td>26.000000</td>\n",
       "      <td>26.000000</td>\n",
       "      <td>26.000000</td>\n",
       "      <td>26.000000</td>\n",
       "    </tr>\n",
       "    <tr>\n",
       "      <th>mean</th>\n",
       "      <td>27.576923</td>\n",
       "      <td>12.153846</td>\n",
       "      <td>4.615385</td>\n",
       "      <td>64.153846</td>\n",
       "    </tr>\n",
       "    <tr>\n",
       "      <th>std</th>\n",
       "      <td>2.435949</td>\n",
       "      <td>4.847204</td>\n",
       "      <td>3.200961</td>\n",
       "      <td>19.272140</td>\n",
       "    </tr>\n",
       "    <tr>\n",
       "      <th>min</th>\n",
       "      <td>21.000000</td>\n",
       "      <td>8.000000</td>\n",
       "      <td>0.000000</td>\n",
       "      <td>38.000000</td>\n",
       "    </tr>\n",
       "    <tr>\n",
       "      <th>25%</th>\n",
       "      <td>26.250000</td>\n",
       "      <td>9.000000</td>\n",
       "      <td>3.000000</td>\n",
       "      <td>49.750000</td>\n",
       "    </tr>\n",
       "    <tr>\n",
       "      <th>50%</th>\n",
       "      <td>28.000000</td>\n",
       "      <td>10.500000</td>\n",
       "      <td>4.500000</td>\n",
       "      <td>58.500000</td>\n",
       "    </tr>\n",
       "    <tr>\n",
       "      <th>75%</th>\n",
       "      <td>29.000000</td>\n",
       "      <td>13.750000</td>\n",
       "      <td>5.750000</td>\n",
       "      <td>72.000000</td>\n",
       "    </tr>\n",
       "    <tr>\n",
       "      <th>max</th>\n",
       "      <td>31.000000</td>\n",
       "      <td>27.000000</td>\n",
       "      <td>17.000000</td>\n",
       "      <td>107.000000</td>\n",
       "    </tr>\n",
       "  </tbody>\n",
       "</table>\n",
       "</div>"
      ],
      "text/plain": [
       "         matches      goals    assists       shots\n",
       "count  26.000000  26.000000  26.000000   26.000000\n",
       "mean   27.576923  12.153846   4.615385   64.153846\n",
       "std     2.435949   4.847204   3.200961   19.272140\n",
       "min    21.000000   8.000000   0.000000   38.000000\n",
       "25%    26.250000   9.000000   3.000000   49.750000\n",
       "50%    28.000000  10.500000   4.500000   58.500000\n",
       "75%    29.000000  13.750000   5.750000   72.000000\n",
       "max    31.000000  27.000000  17.000000  107.000000"
      ]
     },
     "execution_count": 81,
     "metadata": {},
     "output_type": "execute_result"
    }
   ],
   "source": [
    "df_players.describe()"
   ]
  },
  {
   "cell_type": "code",
   "execution_count": 85,
   "metadata": {},
   "outputs": [],
   "source": [
    "df_players.to_excel('EPL Top Scorer.xlsx' , index=False)"
   ]
  },
  {
   "cell_type": "code",
   "execution_count": 78,
   "metadata": {},
   "outputs": [
    {
     "name": "stdout",
     "output_type": "stream",
     "text": [
      "26 26 26 26 26 26\n"
     ]
    }
   ],
   "source": [
    "print(len(player_names), len(team_names), len(goals), len(assists), len(num_matches), len(shots))\n"
   ]
  },
  {
   "cell_type": "code",
   "execution_count": 61,
   "metadata": {},
   "outputs": [
    {
     "data": {
      "text/plain": [
       "[27,\n",
       " 21,\n",
       " 20,\n",
       " 18,\n",
       " 16,\n",
       " 14,\n",
       " 14,\n",
       " 13,\n",
       " 13,\n",
       " 13,\n",
       " 12,\n",
       " 12,\n",
       " 11,\n",
       " 10,\n",
       " 9,\n",
       " 9,\n",
       " 9,\n",
       " 9,\n",
       " 9,\n",
       " 9,\n",
       " 8,\n",
       " 8,\n",
       " 8,\n",
       " 8,\n",
       " 8,\n",
       " 8]"
      ]
     },
     "execution_count": 61,
     "metadata": {},
     "output_type": "execute_result"
    }
   ],
   "source": [
    "goals"
   ]
  },
  {
   "cell_type": "code",
   "execution_count": 57,
   "metadata": {},
   "outputs": [
    {
     "data": {
      "text/plain": [
       "['Liverpool',\n",
       " 'Man City',\n",
       " 'Newcastle',\n",
       " 'Nottm Forest',\n",
       " 'Brentford',\n",
       " 'Chelsea',\n",
       " 'Brentford',\n",
       " 'Aston Villa',\n",
       " 'Wolves',\n",
       " 'Crystal Palace',\n",
       " 'Bournemouth',\n",
       " 'Ipswich',\n",
       " 'Wolves',\n",
       " 'Fulham',\n",
       " 'Tottenham',\n",
       " 'Chelsea',\n",
       " 'Liverpool',\n",
       " 'Arsenal',\n",
       " 'Tottenham',\n",
       " 'Bournemouth',\n",
       " 'Man Utd',\n",
       " 'Brighton',\n",
       " 'Aston Villa',\n",
       " 'West Ham',\n",
       " 'Brighton',\n",
       " 'Liverpool']"
      ]
     },
     "execution_count": 57,
     "metadata": {},
     "output_type": "execute_result"
    }
   ],
   "source": [
    "team_names"
   ]
  },
  {
   "cell_type": "code",
   "execution_count": 44,
   "metadata": {},
   "outputs": [
    {
     "data": {
      "text/plain": [
       "['Mohamed Salah',\n",
       " 'E. Haaland',\n",
       " 'A. Isak',\n",
       " 'C. Wood',\n",
       " 'B. Mbeumo',\n",
       " 'C. Palmer',\n",
       " 'Y. Wissa',\n",
       " 'O. Watkins',\n",
       " 'Matheus Cunha',\n",
       " 'J. Mateta',\n",
       " 'J. Kluivert',\n",
       " 'L. Delap',\n",
       " 'J. Strand Larsen',\n",
       " 'R. Jiménez',\n",
       " 'J. Maddison',\n",
       " 'N. Jackson',\n",
       " 'L. Díaz',\n",
       " 'K. Havertz',\n",
       " 'B. Johnson',\n",
       " 'Evanilson',\n",
       " 'Bruno Fernandes',\n",
       " 'João Pedro',\n",
       " 'M. Rogers',\n",
       " 'J. Bowen',\n",
       " 'D. Welbeck',\n",
       " 'C. Gakpo']"
      ]
     },
     "execution_count": 44,
     "metadata": {},
     "output_type": "execute_result"
    }
   ],
   "source": [
    "player_names"
   ]
  },
  {
   "cell_type": "code",
   "execution_count": 69,
   "metadata": {},
   "outputs": [
    {
     "data": {
      "text/plain": [
       "[17, 3, 5, 3, 5, 7, 2, 6, 4, 2, 6, 2, 2, 3, 5, 5, 5, 3, 2, 0, 9, 6, 6, 5, 4, 3]"
      ]
     },
     "execution_count": 69,
     "metadata": {},
     "output_type": "execute_result"
    }
   ],
   "source": [
    "assists"
   ]
  },
  {
   "cell_type": "code",
   "execution_count": 70,
   "metadata": {},
   "outputs": [
    {
     "data": {
      "text/plain": [
       "[30,\n",
       " 28,\n",
       " 26,\n",
       " 29,\n",
       " 30,\n",
       " 29,\n",
       " 27,\n",
       " 31,\n",
       " 26,\n",
       " 29,\n",
       " 28,\n",
       " 30,\n",
       " 29,\n",
       " 30,\n",
       " 28,\n",
       " 24,\n",
       " 29,\n",
       " 21,\n",
       " 27,\n",
       " 24,\n",
       " 29,\n",
       " 25,\n",
       " 30,\n",
       " 27,\n",
       " 24,\n",
       " 27]"
      ]
     },
     "execution_count": 70,
     "metadata": {},
     "output_type": "execute_result"
    }
   ],
   "source": [
    "num_matches"
   ]
  },
  {
   "cell_type": "code",
   "execution_count": 71,
   "metadata": {},
   "outputs": [
    {
     "data": {
      "text/plain": [
       "[107,\n",
       " 102,\n",
       " 72,\n",
       " 53,\n",
       " 65,\n",
       " 104,\n",
       " 66,\n",
       " 72,\n",
       " 86,\n",
       " 57,\n",
       " 56,\n",
       " 60,\n",
       " 44,\n",
       " 79,\n",
       " 38,\n",
       " 65,\n",
       " 57,\n",
       " 52,\n",
       " 49,\n",
       " 56,\n",
       " 78,\n",
       " 43,\n",
       " 48,\n",
       " 71,\n",
       " 44,\n",
       " 44]"
      ]
     },
     "execution_count": 71,
     "metadata": {},
     "output_type": "execute_result"
    }
   ],
   "source": [
    "shots"
   ]
  },
  {
   "cell_type": "code",
   "execution_count": null,
   "metadata": {},
   "outputs": [],
   "source": []
  },
  {
   "cell_type": "code",
   "execution_count": null,
   "metadata": {},
   "outputs": [],
   "source": []
  },
  {
   "cell_type": "code",
   "execution_count": null,
   "metadata": {},
   "outputs": [],
   "source": []
  },
  {
   "cell_type": "code",
   "execution_count": null,
   "metadata": {},
   "outputs": [],
   "source": []
  }
 ],
 "metadata": {
  "kernelspec": {
   "display_name": "scraping_env",
   "language": "python",
   "name": "python3"
  },
  "language_info": {
   "codemirror_mode": {
    "name": "ipython",
    "version": 3
   },
   "file_extension": ".py",
   "mimetype": "text/x-python",
   "name": "python",
   "nbconvert_exporter": "python",
   "pygments_lexer": "ipython3",
   "version": "3.13.1"
  }
 },
 "nbformat": 4,
 "nbformat_minor": 2
}
